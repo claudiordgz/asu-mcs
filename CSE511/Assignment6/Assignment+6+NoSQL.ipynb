{
 "cells": [
  {
   "cell_type": "code",
   "execution_count": 2,
   "metadata": {},
   "outputs": [],
   "source": [
    "from unqlite import UnQLite\n",
    "import pprint\n",
    "\n",
    "db = UnQLite('sample.db')\n",
    "data = db.collection('data')"
   ]
  },
  {
   "cell_type": "code",
   "execution_count": 41,
   "metadata": {},
   "outputs": [
    {
     "name": "stdout",
     "output_type": "stream",
     "text": [
      "{ '__id': 0,\n",
      "  'business_id': 'MPyxaNVuWlAQqJ0iKV5rQw',\n",
      "  'categories': ['Restaurants', 'Buffets', 'Italian'],\n",
      "  'city': 'Tempe',\n",
      "  'full_address': '1835 E Elliot Rd, Ste C109, Tempe, AZ 85284',\n",
      "  'latitude': 33.3482589,\n",
      "  'longitude': -111.9088346,\n",
      "  'name': \"VinciTorio's Restaurant\",\n",
      "  'neighborhoods': [],\n",
      "  'open': True,\n",
      "  'review_count': 122,\n",
      "  'stars': 4,\n",
      "  'state': 'AZ',\n",
      "  'type': 'business'}\n",
      "{ '__id': 1,\n",
      "  'business_id': '6wKacaFIYcgsaYAZXd4Dkw',\n",
      "  'categories': ['Active Life', 'Sports Clubs'],\n",
      "  'city': 'Phoenix',\n",
      "  'full_address': '5031 E Washington St, Phoenix, AZ 85034',\n",
      "  'latitude': 33.4466995,\n",
      "  'longitude': -111.9735208,\n",
      "  'name': 'Virginia G. Piper Sports & Fitness Center for Persons with Disab',\n",
      "  'neighborhoods': [],\n",
      "  'open': True,\n",
      "  'review_count': 3,\n",
      "  'stars': 5,\n",
      "  'state': 'AZ',\n",
      "  'type': 'business'}\n"
     ]
    }
   ],
   "source": [
    "for i, r in enumerate(data):\n",
    "    print(pprint.pformat(r, indent=2))\n",
    "    if i > 0:\n",
    "        break\n",
    "\n",
    "# NOTE: Data might come in binary format b\"\" instead of unicode"
   ]
  },
  {
   "cell_type": "code",
   "execution_count": 38,
   "metadata": {},
   "outputs": [],
   "source": [
    "# Graded Cell, PartID: o1flK\n",
    "import math\n",
    "\n",
    "def distance_algorithm(lat2, long2, lat1, long1):\n",
    "    R = 3959\n",
    "    phi1 = math.radians(lat1)\n",
    "    phi2 = math.radians(lat2)\n",
    "    delta_phi = math.radians(lat2 - lat1)\n",
    "    delta_lambda = math.radians(long2 - long1) \n",
    "    a = math.sin(delta_phi / 2) * \\\n",
    "        math.sin(delta_phi / 2) + \\\n",
    "        math.cos(phi1) * math.cos(phi2) * \\\n",
    "        math.sin(delta_lambda / 2) * \\\n",
    "        math.sin(delta_lambda / 2)\n",
    "    c = 2 * math.atan2(math.sqrt(a), math.sqrt(1 - a))\n",
    "    d = R * c\n",
    "    return d\n",
    "\n",
    "def business_to_output(business):\n",
    "    name = business[\"name\"] if \"name\" in business else \"\"\n",
    "    full_address = business[\"full_address\"] if \"full_address\" in business else \"\"\n",
    "    city = business[\"city\"] if \"city\" in business else \"\"\n",
    "    state = business[\"state\"] if \"state\" in business else \"\"\n",
    "    return \"$\".join([name, full_address, city, state])\n",
    "\n",
    "def FindBusinessBasedOnCity(city_to_search, save_location, collection):\n",
    "    restaurants = collection.filter(lambda the_obj: the_obj[\"city\"].startswith(city_to_search))\n",
    "    with open(save_location, 'w') as out_file:\n",
    "        output_data = map(business_to_output, restaurants)\n",
    "        out_file.write(\"\\n\".join(output_data))\n",
    "\n",
    "def business_from_location(business, categories_to_search, latitude, longitude, max_distance):\n",
    "    contains_category = any([category in business[\"categories\"] for category in categories_to_search])\n",
    "    if contains_category:\n",
    "        lat, long = (business[\"latitude\"], business[\"longitude\"])\n",
    "        d = distance_algorithm(latitude, longitude, lat, long)\n",
    "        if d < max_distance:\n",
    "            return True\n",
    "    return False\n",
    "        \n",
    "def FindBusinessBasedOnLocation(categories_to_search, my_location, max_distance, save_location, collection):\n",
    "    restaurants = collection.filter(lambda the_obj: business_from_location(the_obj, categories_to_search, my_location[0], my_location[1], max_distance))\n",
    "    with open(save_location, 'w') as out_file:\n",
    "        output_data = map(lambda business: business[\"name\"], restaurants)\n",
    "        out_file.write(\"\\n\".join(output_data))\n"
   ]
  },
  {
   "cell_type": "code",
   "execution_count": 39,
   "metadata": {},
   "outputs": [],
   "source": [
    "true_results = [\"VinciTorio's Restaurant$1835 E Elliot Rd, Ste C109, Tempe, AZ 85284$Tempe$AZ\", \"P.croissants$7520 S Rural Rd, Tempe, AZ 85283$Tempe$AZ\", \"Salt Creek Home$1725 W Ruby Dr, Tempe, AZ 85284Tempe$AZ\"]\n",
    "\n",
    "try:\n",
    "    FindBusinessBasedOnCity('Tempe', 'output_city.txt', data)\n",
    "except NameError as e:\n",
    "    print ('The FindBusinessBasedOnCity function is not defined! You must run the cell containing the function before running this evaluation cell.')\n",
    "except TypeError as e:\n",
    "    print (\"The FindBusinessBasedOnCity function is supposed to accept three arguments. Yours does not!\")\n",
    "    \n",
    "try:\n",
    "    opf = open('output_city.txt', 'r')\n",
    "except FileNotFoundError as e:\n",
    "    print (\"The FindBusinessBasedOnCity function does not write data to the correct location.\")\n",
    "    \n",
    "lines = opf.readlines()\n",
    "if len(lines) != 3:\n",
    "    print (\"The FindBusinessBasedOnCity function does not find the correct number of results, should be 3.\")\n",
    "    \n",
    "lines = [line.strip() for line in lines]\n",
    "if sorted(lines) == sorted(true_results):\n",
    "    print (\"Correct! You FindBusinessByCity function passes these test cases. This does not cover all possible test edge cases, however, so make sure that your function covers them before submitting!\")"
   ]
  },
  {
   "cell_type": "code",
   "execution_count": 40,
   "metadata": {},
   "outputs": [
    {
     "name": "stdout",
     "output_type": "stream",
     "text": [
      "Correct! Your FindBusinessBasedOnLocation function passes these test cases. This does not cover all possible edge cases, so make sure your function does before submitting.\n"
     ]
    }
   ],
   "source": [
    "true_results = [\"VinciTorio's Restaurant\"]\n",
    "\n",
    "try:\n",
    "    FindBusinessBasedOnLocation(['Buffets'], [33.3482589, -111.9088346], 10, 'output_loc.txt', data)\n",
    "except NameError as e: \n",
    "    print ('The FindBusinessBasedOnLocation function is not defined! You must run the cell containing the function before running this evaluation cell.')\n",
    "except TypeError as e:\n",
    "    print (\"The FindBusinessBasedOnLocation function is supposed to accept five arguments. Yours does not!\")\n",
    "    \n",
    "try:\n",
    "    opf = open('output_loc.txt','r')\n",
    "except FileNotFoundError as e:\n",
    "    print (\"The FindBusinessBasedOnLocation function does not write data to the correct location.\")\n",
    "\n",
    "lines = opf.readlines()\n",
    "if len(lines) != 1:\n",
    "    print (\"The FindBusinessBasedOnLocation function does not find the correct number of results, should be only 1.\")\n",
    "\n",
    "if lines[0].strip() == true_results[0]:\n",
    "    print (\"Correct! Your FindBusinessBasedOnLocation function passes these test cases. This does not cover all possible edge cases, so make sure your function does before submitting.\")"
   ]
  },
  {
   "cell_type": "code",
   "execution_count": null,
   "metadata": {},
   "outputs": [],
   "source": []
  }
 ],
 "metadata": {
  "kernelspec": {
   "display_name": "Python 3",
   "language": "python",
   "name": "python3"
  },
  "language_info": {
   "codemirror_mode": {
    "name": "ipython",
    "version": 3
   },
   "file_extension": ".py",
   "mimetype": "text/x-python",
   "name": "python",
   "nbconvert_exporter": "python",
   "pygments_lexer": "ipython3",
   "version": "3.8.1"
  }
 },
 "nbformat": 4,
 "nbformat_minor": 2
}
