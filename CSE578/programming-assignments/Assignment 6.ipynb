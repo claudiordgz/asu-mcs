{
 "cells": [
  {
   "cell_type": "markdown",
   "metadata": {},
   "source": [
    "# Assignment: Dino Fun World Analysis Cont.\n",
    "As in your previous assignments, the administrators of the Dino Fun World theme park have asked you, one of their data analysts, to perform a data analysis task in order to help them administer the park. In this case, your task builds upon one of the tasks the administrators previously asked you to perform. In a prior task, you were asked to find the distance between a set of visitor trajectories using a simple edit distance algorithm and report the distances. For this task, you must construct and display a dendrogram of those distances. Again, the administrators of the park have provided a database which contains the information needed.\n",
    "\n",
    "### Provided Database\n",
    "\n",
    "The database provided by the park administration is formatted to be readable by any SQL database library. The course staff recommends the sqlite3 library. The database contains three tables, named 'checkins', 'attractions', and 'sequences'. The information contained in each of these tables is listed below:\n",
    "\n",
    "`checkins`:\n",
    "    - Description: check-in data for all visitors for the day in the park. The data includes two types of check-ins, inferred and actual checkins.\n",
    "    - Fields: visitorID, timestamp, attraction, duration, type\n",
    "`attraction`:\n",
    "    - The attractions in the park by their corresponding AttractionID, Name, Region, Category, and type. Regions are from the VAST Challenge map such as Coaster Alley, Tundra Land, etc. Categories include Thrill rides, Kiddie Rides, etc. Type is broken into Outdoor Coaster, Other Ride, Carussel, etc.\n",
    "    - Fields: AttractionID, Name, Region, Category, type\n",
    "`sequences`:\n",
    "    - The check-in sequences of visitors. These sequences list the position of each visitor to the park every five minutes. If the visitor has not entered the part yet, the sequence has a value of 0 for that time interval. If the visitor is in the park, the sequence lists the attraction they have most recently checked in to until they check in to a new one or leave the park.\n",
    "    - Fields: visitorID, sequence\n",
    "    \n",
    "The database is named 'dinofunworld.db' and is available at readonly/dinofunworld.db.\n",
    "\n",
    "### Questions to Answer\n",
    "\n",
    "This tasks consists of only one question, which will require you to generate a dendrogram graph. Create this dendrogram using the trajectories of the visitors with the IDs: 165316, 1835254, 296394, 404385, and 448990. If you are unsure about how to create a dendrogram, please refer to the Jupyter Notebook example which covers creating a dendrogram. When performing clustering over the trajectories to inform the dendrogram, use an average distance over all points in the cluster.\n",
    "\n",
    "#### Administrative Notes\n",
    "\n",
    "This assignment will be graded by Coursera's grading system. In order for your answers to be correctly registered in the system, you must place the code for your answers in the cell indicated for each question. In addition, you should submit the assignment with the output of the code in the cell's display area. The display area should contain only your answer to the question with no extraneous information, or else the answer may not be picked up correctly. Each cell that is going to be graded has a set of comment lines at the beginning of the cell. These lines are extremely important and must not be modified or removed."
   ]
  },
  {
   "cell_type": "code",
   "execution_count": 20,
   "metadata": {},
   "outputs": [
    {
     "name": "stdout",
     "output_type": "stream",
     "text": [
      "CREATE TABLE \"attraction\" (\n",
      "\"index\" INTEGER,\n",
      "  \"AttractionID\" INTEGER,\n",
      "  \"Name\" TEXT,\n",
      "  \"Region\" TEXT,\n",
      "  \"Category\" TEXT,\n",
      "  \"type\" TEXT\n",
      ")\n",
      "CREATE TABLE \"checkin\" (\n",
      "\"index\" INTEGER,\n",
      "  \"visitorID\" INTEGER,\n",
      "  \"timestamp\" TEXT,\n",
      "  \"attraction\" INTEGER,\n",
      "  \"duration\" TEXT,\n",
      "  \"type\" TEXT\n",
      ")\n",
      "CREATE TABLE \"sequences\" (\n",
      "\"index\" INTEGER,\n",
      "  \"visitorID\" INTEGER,\n",
      "  \"sequence\" TEXT\n",
      ")\n",
      "71\n",
      "506242\n",
      "11374\n"
     ]
    }
   ],
   "source": [
    "import sqlite3\n",
    "import matplotlib.pyplot as plt\n",
    "import numpy as np\n",
    "import pandas as pd\n",
    "from scipy.cluster.hierarchy import linkage, dendrogram\n",
    "\n",
    "con = sqlite3.connect('readonly/dinofunworld.db')\n",
    "cur = con.cursor()\n",
    "\n",
    "def sqlite_table_schema(conn, name):\n",
    "    cursor = conn.execute(\"SELECT sql FROM sqlite_master WHERE name=?;\", [name])\n",
    "    sql = cursor.fetchone()[0]\n",
    "    return sql\n",
    "\n",
    "def get_count(conn, name):\n",
    "    cursor = conn.execute(\"SELECT COUNT(*) FROM {};\".format(name))\n",
    "    count = cursor.fetchone()[0]\n",
    "    return count\n",
    "\n",
    "print(sqlite_table_schema(cur, \"attraction\"))\n",
    "print(sqlite_table_schema(cur, \"checkin\"))\n",
    "print(sqlite_table_schema(cur, \"sequences\"))\n",
    "\n",
    "print(get_count(cur, \"attraction\"))\n",
    "print(get_count(cur, \"checkin\"))\n",
    "print(get_count(cur, \"sequences\"))"
   ]
  },
  {
   "cell_type": "code",
   "execution_count": 28,
   "metadata": {},
   "outputs": [
    {
     "name": "stdout",
     "output_type": "stream",
     "text": [
      "[(0, 436, '2014-06-08 09:48:51', 83, '0:00:59', 'actual'), (1, 436, '2014-06-08 09:56:46', 42, '0:08:03', 'inferred'), (2, 436, '2014-06-08 10:14:04', 6, '0:06:16', 'actual'), (3, 436, '2014-06-08 10:29:38', 5, '1:07:41', 'actual'), (4, 436, '2014-06-08 11:38:55', 49, '0:08:43', 'inferred')]\n",
      "[(23, 24, \"Kauf's Lost Canyon Escape\", 'Wet Land', 'Rides for Everyone\\r', 'Outdoor Coaster')]\n"
     ]
    }
   ],
   "source": [
    "def do_query(conn, name, count=5):\n",
    "    cursor = conn.execute(\"SELECT * FROM {} LIMIT {}\".format(name, count))\n",
    "    sql = cursor.fetchall()\n",
    "    return sql\n",
    "\n",
    "#print(do_query(cur, \"attraction\"))\n",
    "print(do_query(cur, \"checkin\"))\n",
    "#print(do_query(cur, \"sequences\"))\n",
    "\n",
    "cur = cur.execute(\"SELECT * FROM attraction WHERE AttractionID = 24\")\n",
    "print(cur.fetchall())"
   ]
  },
  {
   "cell_type": "code",
   "execution_count": 26,
   "metadata": {},
   "outputs": [
    {
     "data": {
      "image/png": "[encoded data removed]",
      "text/plain": [
       "<Figure size 864x504 with 1 Axes>"
      ]
     },
     "metadata": {},
     "output_type": "display_data"
    }
   ],
   "source": [
    "# Graded Cell, PartID:RLU7S\n",
    "# Create and display a dendrogram of the trajectories of the 5 visitors specified above.\n",
    "# The clustering algorithm used to create the dendrogram should use the average distance\n",
    "# between points in a cluster.\n",
    "import matplotlib as mpl\n",
    "mpl.style.use('seaborn')\n",
    "\n",
    "fig = plt.figure(figsize=(12,7))\n",
    "\n",
    "cur.execute(\"SELECT visitorID, sequence FROM sequences where visitorID IN (165316, 1835254, 296394, 404385, 448990);\")\n",
    "sequences_data = cur.fetchall()\n",
    "labels = list(map(lambda row: row[0], sequences_data))\n",
    "sequences = list(map(lambda row: list(map(int, row[1].split(\"-\"))), sequences_data))\n",
    "\n",
    "np_mat = np.matrix(sequences)\n",
    "links = linkage(np_mat, 'average')\n",
    "dendrogram(links, labels=labels)\n",
    "plt.title(\"Trajectories of 5 Visitors\")\n",
    "plt.xlabel(\"Visitor Id\")\n",
    "plt.show()"
   ]
  },
  {
   "cell_type": "code",
   "execution_count": null,
   "metadata": {},
   "outputs": [],
   "source": []
  }
 ],
 "metadata": {
  "coursera": {
   "course_slug": "cse578",
   "graded_item_id": "uzEng",
   "launcher_item_id": "PoO5v"
  },
  "kernelspec": {
   "display_name": "Python 3",
   "language": "python",
   "name": "python3"
  },
  "language_info": {
   "codemirror_mode": {
    "name": "ipython",
    "version": 3
   },
   "file_extension": ".py",
   "mimetype": "text/x-python",
   "name": "python",
   "nbconvert_exporter": "python",
   "pygments_lexer": "ipython3",
   "version": "3.7.4"
  }
 },
 "nbformat": 4,
 "nbformat_minor": 2
}
