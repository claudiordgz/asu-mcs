{
 "cells": [
  {
   "cell_type": "markdown",
   "metadata": {},
   "source": [
    "# Assignment 2: Graphing Dino Fun World\n",
    "\n",
    "Impressed by your previous work, the administrators of Dino Fun World have asked you to create some charts that they can use in their next presentation to upper management. The data used for this assignment will be the same as the data used for the previous asisgnment.\n",
    "\n",
    "### Provided Database\n",
    "\n",
    "The database provided by the park administration is formatted to be readable by any SQL database library. The course staff recommends the sqlite3 library. The database contains three tables, named 'checkins', 'attractions', and 'sequences'. The information contained in each of these tables is listed below:\n",
    "\n",
    "`checkins`:\n",
    "    - Description: check-in data for all visitors for the day in the park. The data includes two types of check-ins, inferred and actual checkins.\n",
    "    - Fields: visitorID, timestamp, attraction, duration, type\n",
    "`attraction`:\n",
    "    - The attractions in the park by their corresponding AttractionID, Name, Region, Category, and type. Regions are from the VAST Challenge map such as Coaster Alley, Tundra Land, etc. Categories include Thrill rides, Kiddie Rides, etc. Type is broken into Outdoor Coaster, Other Ride, Carussel, etc.\n",
    "    - Fields: AttractionID, Name, Region, Category, type\n",
    "`sequences`:\n",
    "    - The check-in sequences of visitors. These sequences list the position of each visitor to the park every five minutes. If the visitor has not entered the part yet, the sequence has a value of 0 for that time interval. If the visitor is in the park, the sequence lists the attraction they have most recently checked in to until they check in to a new one or leave the park.\n",
    "    - Fields: visitorID, sequence\n",
    "    \n",
    "The database is named 'dinofunworld.db' and is located in the 'readonly' directory of the Jupyter Notebook environment. It can be accessed at 'readonly/dinofunworld.db'.   \n",
    "\n",
    "### Questions to Answer\n",
    "\n",
    "The administrators would like you to create four graphs: a pie chart, a bar chart, a line chart, and a box-and-whisker plot. All of these plots can be created with the data provided.\n",
    "\n",
    "Chart 1: A Pie Chart depicting visits to thrill ride attractions.\n",
    "Chart 2: A Bar Chart depicting total visits to food stalls.\n",
    "Chart 3: A Line Chart depicting attendance at the newest ride, Atmosfear over the course of the day.\n",
    "Chart 4: A Box-and-Whisker Plot depicting total visits to the park's Kiddie Rides.\n",
    "\n",
    "#### Administrative Notes\n",
    "\n",
    "This assignment will be graded by Coursera's grading system. In order for your answers to be correctly registered in the system, you must place the code for your answers in the cell indicated for each question. In addition, you should submit the assignment with the output of the code in the cell's display area. The display area should contain only your answer to the question with no extraneous information, or else the answer may not be picked up correctly. Each cell that is going to be graded has a set of comment lines at the beginning of the cell. These lines are extremely important and must not be modified or removed."
   ]
  },
  {
   "cell_type": "code",
   "execution_count": null,
   "metadata": {},
   "outputs": [],
   "source": [
    "# Graded Cell, PartID: gtMqY\n",
    "# Make a Pie Chart of the visits to Thrill Ride attractions. For this question,\n",
    "#  display the pie chart in the notebook and print the data used to create the\n",
    "#  pie chart as a list of lists (ex: [['Ride 1', 10], ['Ride 2', 100], ...])"
   ]
  },
  {
   "cell_type": "code",
   "execution_count": null,
   "metadata": {},
   "outputs": [],
   "source": [
    "# Graded Cell, PartID: 9Ocyl\n",
    "# Make a bar chart of total visits to food stalls. For this question,\n",
    "#  display the bar chart in the notebook and print the data used to create the\n",
    "#  bar chart as a list of lists (ex: [['Stall 1', 10], ['Stall 2', 50], ...])"
   ]
  },
  {
   "cell_type": "code",
   "execution_count": null,
   "metadata": {},
   "outputs": [],
   "source": [
    "# Graded Cell, PartID: 0zcEV\n",
    "# Make a line chart of attendance at Atmosfear every five minutes. Again,\n",
    "#  display the line chart in the notebook and print the data used to create the\n",
    "#  chart as a list of lists (ex: [['Stall 1', 10], ['Stall 2', 50], ...])"
   ]
  },
  {
   "cell_type": "code",
   "execution_count": null,
   "metadata": {},
   "outputs": [],
   "source": [
    "# Graded Cell, PartID: zdzaT\n",
    "# Make a box plot of total visits to rides in the Kiddie Rides category. For\n",
    "#  this question, display the box plot in the notebook and print the number of\n",
    "#  visits to each ride as a list (ex: [3, 4, 5, 6, ...])"
   ]
  }
 ],
 "metadata": {
  "coursera": {
   "course_slug": "cse578",
   "graded_item_id": "KuBuY",
   "launcher_item_id": "T7J5K"
  },
  "kernelspec": {
   "display_name": "Python 3",
   "language": "python",
   "name": "python3"
  },
  "language_info": {
   "codemirror_mode": {
    "name": "ipython",
    "version": 3
   },
   "file_extension": ".py",
   "mimetype": "text/x-python",
   "name": "python",
   "nbconvert_exporter": "python",
   "pygments_lexer": "ipython3",
   "version": "3.6.5"
  }
 },
 "nbformat": 4,
 "nbformat_minor": 2
}
