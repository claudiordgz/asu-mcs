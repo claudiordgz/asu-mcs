{
 "cells": [
  {
   "cell_type": "markdown",
   "metadata": {},
   "source": [
    "# Assignment 1: Dino Fun World\n",
    "\n",
    "You, in your role as a burgeoning data explorer and visualizer, have been asked by the administrators of a small amusement park in your hometown to answer a couple questions about their park operations. In order to perform the requested analysis, they have provided you with a database containing information about one day of the park's operations.\n",
    "\n",
    "### Provided Database\n",
    "\n",
    "The database provided by the park administration is formatted to be readable by any SQL database library. The course staff recommends the sqlite3 library. The database contains three tables, named 'checkins', 'attractions', and 'sequences'. The information contained in each of these tables is listed below:\n",
    "\n",
    "`checkins`:\n",
    "    - Description: check-in data for all visitors for the day in the park. The data includes two types of check-ins, inferred and actual checkins.\n",
    "    - Fields: visitorID, timestamp, attraction, duration, type\n",
    "`attraction`:\n",
    "    - The attractions in the park by their corresponding AttractionID, Name, Region, Category, and type. Regions are from the VAST Challenge map such as Coaster Alley, Tundra Land, etc. Categories include Thrill rides, Kiddie Rides, etc. Type is broken into Outdoor Coaster, Other Ride, Carussel, etc.\n",
    "    - Fields: AttractionID, Name, Region, Category, type\n",
    "`sequences`:\n",
    "    - The check-in sequences of visitors. These sequences list the position of each visitor to the park every five minutes. If the visitor has not entered the part yet, the sequence has a value of 0 for that time interval. If the visitor is in the park, the sequence lists the attraction they have most recently checked in to until they check in to a new one or leave the park.\n",
    "    - Fields: visitorID, sequence\n",
    "    \n",
    "The database is named 'dinofunworld.db' and is located in the 'readonly' directory of the Jupyter Notebook environment. It can be accessed at 'readonly/dinofunworld.db'.\n",
    "\n",
    "### Questions to Answer\n",
    "\n",
    "The administrators would like you to answer four relatively simple questions about the park activities on the day in question. These questions all deal with park operations and can be answered using the data provided.\n",
    "\n",
    "Question 1: What is the most popular attraction to visit in the park?\n",
    "Question 2: What ride (note that not all attractions are rides) has the longest visit time?\n",
    "Question 3: Which Fast Food offering has the fewest visitors?\n",
    "Question 4: Compute the Skyline of number of visits and visit time for the park's ride and report the rides that appear in the Skyline.\n",
    "\n",
    "#### Administrative Notes\n",
    "\n",
    "This assignment will be graded by Coursera's grading system. In order for your answers to be correctly registered in the system, you must place the code for your answers in the cell indicated for each question. In addition, you should submit the assignment with the output of the code in the cell's display area. The display area should contain only your answer to the question with no extraneous information, or else the answer may not be picked up correctly. Each cell that is going to be graded has a set of comment lines at the beginning of the cell. These lines are extremely important and must not be modified or removed."
   ]
  },
  {
   "cell_type": "code",
   "execution_count": 1,
   "metadata": {
    "scrolled": false
   },
   "outputs": [
    {
     "name": "stdout",
     "output_type": "stream",
     "text": [
      "Atmosfear\n"
     ]
    }
   ],
   "source": [
    "# Graded Cell, PartID: NDnou\n",
    "# Question 1: What is the most popular attraction to visit in the park?\n",
    "# Notes: Your output should be the name of the attraction.\n",
    "# Graded Cell, PartID: NDnou\n",
    "# Question 1: What is the most popular attraction to visit in the park?\n",
    "# Notes: Your output should be the name of the attraction.\n",
    "import sqlite3\n",
    "\n",
    "conn = sqlite3.connect('./readonly/dinofunworld.db')\n",
    "cursor = conn.cursor()\n",
    "cursor.execute(\"\"\"\n",
    "    SELECT Name, MAX(checkins) \n",
    "    FROM (\n",
    "        SELECT attraction as popular_attraction, COUNT(*) as checkins\n",
    "        FROM checkin\n",
    "        GROUP BY popular_attraction\n",
    "        ORDER BY checkins desc\n",
    "    ) JOIN attraction\n",
    "    ON attraction.AttractionID = popular_attraction\n",
    "    LIMIT 1;\n",
    "    \"\"\")\n",
    "name_of_popular_attraction = cursor.fetchone()[0]\n",
    "print(name_of_popular_attraction)"
   ]
  },
  {
   "cell_type": "code",
   "execution_count": 2,
   "metadata": {},
   "outputs": [
    {
     "name": "stdout",
     "output_type": "stream",
     "text": [
      "Flight of the Swingodon\n"
     ]
    }
   ],
   "source": [
    "# Graded Cell, PartID: FXGHp\n",
    "# Question 2: What ride (note that not all attractions are rides) has the longest average visit time?\n",
    "# Notes: Your output should be the name of the ride.\n",
    "import sqlite3\n",
    "\n",
    "conn = sqlite3.connect('./readonly/dinofunworld.db')\n",
    "cursor = conn.cursor()\n",
    "cursor.execute(\"\"\"\n",
    "    SELECT AttractionID, AVG(duration) as avg_duration, Name\n",
    "    FROM checkin\n",
    "    JOIN (\n",
    "        SELECT DISTINCT(AttractionID), Name\n",
    "        FROM attraction\n",
    "        WHERE Category LIKE '%Ride%'\n",
    "    )\n",
    "    ON checkin.attraction = AttractionID\n",
    "    GROUP BY AttractionID\n",
    "    ORDER BY avg_duration desc\n",
    "    LIMIT 1;\n",
    "    \"\"\")\n",
    "long_average_timed_attraction = cursor.fetchone()[2]\n",
    "print(long_average_timed_attraction)"
   ]
  },
  {
   "cell_type": "code",
   "execution_count": 3,
   "metadata": {},
   "outputs": [
    {
     "name": "stdout",
     "output_type": "stream",
     "text": [
      "Theresaur Food Stop\n"
     ]
    }
   ],
   "source": [
    "# Graded Cell, PartID: KALua\n",
    "# Question 3: Which Fast Food offering in the park has the fewest visitors?\n",
    "# Notes: Your output should be the name of the fast food offering.\n",
    "import sqlite3\n",
    "\n",
    "conn = sqlite3.connect('./readonly/dinofunworld.db')\n",
    "cursor = conn.cursor()\n",
    "cursor.execute(\"\"\"\n",
    "    SELECT attraction, COUNT(*) as visitor_count, AttractionName\n",
    "    FROM checkin\n",
    "    JOIN (\n",
    "        SELECT AttractionID, Name as AttractionName\n",
    "        FROM attraction\n",
    "        WHERE type LIKE '%Fast Food%'\n",
    "    )\n",
    "    ON attraction = AttractionID\n",
    "    GROUP BY attraction\n",
    "    ORDER BY visitor_count asc\n",
    "    LIMIT 1;\n",
    "    \"\"\")\n",
    "fewest_visited_fast_food_joint = cursor.fetchone()[2]\n",
    "print(fewest_visited_fast_food_joint)"
   ]
  },
  {
   "cell_type": "code",
   "execution_count": 4,
   "metadata": {},
   "outputs": [
    {
     "name": "stdout",
     "output_type": "stream",
     "text": [
      "['Scholtz Express', 'Galactosaurus Rage', 'Atmosfear']\n"
     ]
    }
   ],
   "source": [
    "# Graded Cell, PartID: B0LUP\n",
    "# Question 4: Compute the Skyline of number of visits and visit time for the park's ride and \n",
    "#  report the rides that appear in the Skyline. \n",
    "# Notes: Remember that in this case, higher visits is better and lower visit times are better. \n",
    "#  Your output should be formatted as an array listing the names of the rides in the Skyline.\n",
    "import sqlite3\n",
    "import math\n",
    "\n",
    "conn = sqlite3.connect('./readonly/dinofunworld.db')\n",
    "cursor = conn.cursor()\n",
    "cursor.execute(\"\"\"\n",
    "    SELECT AttractionID, COUNT(*) as visits, AVG(duration)*-10000 as visit_time, Name\n",
    "    FROM checkin\n",
    "    JOIN (\n",
    "        SELECT DISTINCT(AttractionID), Name\n",
    "        FROM attraction\n",
    "        WHERE Category LIKE '%Ride%'\n",
    "    )\n",
    "    ON checkin.attraction = AttractionID\n",
    "    GROUP BY AttractionID\n",
    "    ORDER BY visits asc;\n",
    "    \"\"\")\n",
    "results = cursor.fetchall()\n",
    "filtered_bad_durations = list(filter(lambda row: int(row[2]) != 0, results))\n",
    "\n",
    "# %matplotlib inline\n",
    "# import matplotlib.pyplot as plt\n",
    "\n",
    "# x = [row[1] for row in filtered_bad_durations]\n",
    "# y = [row[2] for row in filtered_bad_durations]\n",
    "# names = [row[3] for row in filtered_bad_durations]\n",
    "# fig, ax = plt.subplots()\n",
    "# fig.set_size_inches(18.5, 30.5)\n",
    "# ax.scatter(x, y)\n",
    "\n",
    "# for i, txt in enumerate(names):\n",
    "#     ax.annotate(txt, (x[i], y[i]))\n",
    "# plt.show()\n",
    "\n",
    "bin_a = max(filter(lambda row: int(row[1]) < 10000, filtered_bad_durations), key=lambda row: row[2])\n",
    "bin_b = max(filter(lambda row: int(row[1]) < 20000, filtered_bad_durations), key=lambda row: row[2])\n",
    "bin_c = max(filter(lambda row: int(row[1]) > 20000, filtered_bad_durations), key=lambda row: row[2])\n",
    "\n",
    "print([bin_a[3], bin_b[3], bin_c[3]])\n"
   ]
  },
  {
   "cell_type": "code",
   "execution_count": null,
   "metadata": {},
   "outputs": [],
   "source": []
  }
 ],
 "metadata": {
  "coursera": {
   "course_slug": "cse578",
   "graded_item_id": "NqAnt",
   "launcher_item_id": "T5SDi"
  },
  "kernelspec": {
   "display_name": "Python 3",
   "language": "python",
   "name": "python3"
  },
  "language_info": {
   "codemirror_mode": {
    "name": "ipython",
    "version": 3
   },
   "file_extension": ".py",
   "mimetype": "text/x-python",
   "name": "python",
   "nbconvert_exporter": "python",
   "pygments_lexer": "ipython3",
   "version": "3.8.1"
  }
 },
 "nbformat": 4,
 "nbformat_minor": 2
}
