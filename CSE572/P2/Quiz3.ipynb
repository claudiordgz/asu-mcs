{
 "cells": [
  {
   "cell_type": "code",
   "execution_count": 13,
   "id": "991b4f39-1425-439e-acfe-43946404c5ef",
   "metadata": {},
   "outputs": [],
   "source": [
    "# use file Weekly_Quizzes1_3_copy.docx%20(1).pdf"
   ]
  },
  {
   "cell_type": "code",
   "execution_count": 30,
   "id": "9e5e32a4-615e-4bbc-af78-54cf5e662ae1",
   "metadata": {},
   "outputs": [
    {
     "name": "stdout",
     "output_type": "stream",
     "text": [
      "Figure 1: Food Type Prediction\n"
     ]
    },
    {
     "data": {
      "text/html": [
       "<img src=\"./q1and2.png\"/>"
      ],
      "text/plain": [
       "<IPython.core.display.Image object>"
      ]
     },
     "execution_count": 30,
     "metadata": {},
     "output_type": "execute_result"
    }
   ],
   "source": [
    "from IPython.display import Image\n",
    "from IPython.core.display import HTML \n",
    "print(\"Figure 1: Food Type Prediction\")\n",
    "Image(url= \"./q1and2.png\")"
   ]
  },
  {
   "cell_type": "code",
   "execution_count": 34,
   "id": "ff75f2f1-5180-4f04-8eaa-f5da5f68d6e9",
   "metadata": {},
   "outputs": [
    {
     "name": "stdout",
     "output_type": "stream",
     "text": [
      "   Food Name  Sugar content  Crunchiness  Food Type  Distance\n",
      "15    Tomato              6            4    Unknown  0.000000\n",
      "0     Orange              7            3      Fruit  1.414214\n",
      "1      Grape              8            5      Fruit  2.236068\n",
      "2        Nut              3            6    Protein  3.605551\n",
      "3     Shrimp              2            3    Protein  4.123106\n",
      "4       Fish              3            1    Protein  4.242641\n",
      "5       Bean              3            7  Vegetable  4.242641\n",
      "6      Bacon              1            4    Protein  5.000000\n",
      "7     Banana             10            1      Fruit  5.000000\n",
      "8       Pear             10            7      Fruit  5.000000\n",
      "9   Cucumber              2            8  Vegetable  5.656854\n",
      "10    Cheese              1            1    Protein  5.830952\n",
      "11    Carrot              5           10  Vegetable  6.082763\n",
      "12     Apple             10            9      Fruit  6.403124\n",
      "13    Celery              3           10  Vegetable  6.708204\n",
      "14   Cabbage              1            9  Vegetable  7.071068\n",
      "K=10 Nearest Neighbors:\n",
      "   Food Name  Sugar content  Crunchiness  Food Type  Distance\n",
      "0    Orange              7            3      Fruit  1.414214\n",
      "1     Grape              8            5      Fruit  2.236068\n",
      "2       Nut              3            6    Protein  3.605551\n",
      "3    Shrimp              2            3    Protein  4.123106\n",
      "4      Fish              3            1    Protein  4.242641\n",
      "5      Bean              3            7  Vegetable  4.242641\n",
      "6     Bacon              1            4    Protein  5.000000\n",
      "7    Banana             10            1      Fruit  5.000000\n",
      "8      Pear             10            7      Fruit  5.000000\n",
      "9  Cucumber              2            8  Vegetable  5.656854\n",
      "\n",
      "Food type counts at K=10:\n",
      " Fruit        4\n",
      "Protein      4\n",
      "Vegetable    2\n",
      "Name: Food Type, dtype: int64\n",
      "\n",
      "Minimum K where Protein becomes the majority: 5\n",
      "\n",
      "Food type counts at minimum K for Protein:\n",
      " Protein    3\n",
      "Fruit      2\n",
      "Name: Food Type, dtype: int64\n",
      "[(5, Protein    3\n",
      "Fruit      2\n",
      "Name: Food Type, dtype: int64), (6, Protein      3\n",
      "Fruit        2\n",
      "Vegetable    1\n",
      "Name: Food Type, dtype: int64), (7, Protein      4\n",
      "Fruit        2\n",
      "Vegetable    1\n",
      "Name: Food Type, dtype: int64), (8, Protein      4\n",
      "Fruit        3\n",
      "Vegetable    1\n",
      "Name: Food Type, dtype: int64), (11, Protein      5\n",
      "Fruit        4\n",
      "Vegetable    2\n",
      "Name: Food Type, dtype: int64), (12, Protein      5\n",
      "Fruit        4\n",
      "Vegetable    3\n",
      "Name: Food Type, dtype: int64)]\n"
     ]
    }
   ],
   "source": [
    "'''\n",
    "Review the table labeled Figure 1: Food Type Prediction. \n",
    "A K-Nearest Neighbor (KNN) model is used to predict food type based \n",
    "on sugar content and crunchiness for the following training set. \n",
    "If K is set to 10 and the model uses Euclidean distance, which food type will be predicted for Tomato?\n",
    "'''\n",
    "import pandas as pd\n",
    "import numpy as np\n",
    "\n",
    "# Food dataset with sugar content and crunchiness\n",
    "data = {\n",
    "    'Food Name': ['Orange', 'Grape', 'Nut', 'Shrimp', 'Fish', 'Bean', 'Bacon', 'Banana', 'Pear', \n",
    "                  'Cucumber', 'Cheese', 'Carrot', 'Apple', 'Celery', 'Cabbage', 'Tomato'],\n",
    "    'Sugar content': [7, 8, 3, 2, 3, 3, 1, 10, 10, 2, 1, 5, 10, 3, 1, 6],\n",
    "    'Crunchiness': [3, 5, 6, 3, 1, 7, 4, 1, 7, 8, 1, 10, 9, 10, 9, 4],\n",
    "    'Food Type': ['Fruit', 'Fruit', 'Protein', 'Protein', 'Protein', 'Vegetable', 'Protein', \n",
    "                  'Fruit', 'Fruit', 'Vegetable', 'Protein', 'Vegetable', 'Fruit', 'Vegetable', \n",
    "                  'Vegetable', 'Unknown']\n",
    "}\n",
    "\n",
    "df = pd.DataFrame(data)\n",
    "\n",
    "# Coordinates of the Tomato\n",
    "tomato = np.array([6, 4])\n",
    "\n",
    "# Function to calculate Euclidean distance\n",
    "def euclidean_distance(row, point):\n",
    "    return np.sqrt((row['Sugar content'] - point[0])**2 + (row['Crunchiness'] - point[1])**2)\n",
    "\n",
    "# Calculate the Euclidean distance from Tomato to all other foods\n",
    "df['Distance'] = df.apply(lambda row: euclidean_distance(row, tomato), axis=1)\n",
    "\n",
    "# Sort by distance and get the K nearest neighbors\n",
    "def find_k_nearest_neighbors(K):\n",
    "    return df[df['Food Name'] != 'Tomato'].sort_values(by='Distance').head(K)\n",
    "\n",
    "# Calculate result using K = 10\n",
    "nearest_neighbors_k10 = find_k_nearest_neighbors(10)\n",
    "\n",
    "# Count the food types in the 10 nearest neighbors\n",
    "food_type_counts_k10 = nearest_neighbors_k10['Food Type'].value_counts()\n",
    "\n",
    "# Search for the K where Protein becomes the majority\n",
    "def find_k_for_protein():\n",
    "    k = 1\n",
    "    while k <= len(df) - 1:\n",
    "        nearest_neighbors = find_k_nearest_neighbors(k)\n",
    "        food_type_counts = nearest_neighbors['Food Type'].value_counts()\n",
    "        if 'Protein' in food_type_counts and food_type_counts['Protein'] > food_type_counts.get('Fruit', 0):\n",
    "            return k, food_type_counts\n",
    "        k += 1\n",
    "    return None, None\n",
    "\n",
    "# Find the minimum K where Protein becomes the majority\n",
    "min_k_protein, food_type_counts_at_k = find_k_for_protein()\n",
    "\n",
    "print(df.sort_values(by='Distance'))\n",
    "print(\"K=10 Nearest Neighbors:\\n\", nearest_neighbors_k10)\n",
    "print(\"\\nFood type counts at K=10:\\n\", food_type_counts_k10)\n",
    "print(\"\\nMinimum K where Protein becomes the majority:\", min_k_protein)\n",
    "print(\"\\nFood type counts at minimum K for Protein:\\n\", food_type_counts_at_k)\n",
    "\n",
    "\n",
    "'''\n",
    "q2\n",
    "Review the table labeled Figure 1: Food Type Prediction. \n",
    "A K-Nearest Neighbor (KNN) model is used to predict food \n",
    "type based on sugar content and crunchiness for the following training set. \n",
    "If the model uses Euclidean distance, which value should be given \n",
    "to K in order for the model to predict Tomato as a Protein?\n",
    "'''\n",
    "\n",
    "# Search for all K where Protein becomes the majority\n",
    "def find_all_k_for_protein_prediction():\n",
    "    protein_ks = []\n",
    "    for k in range(1, len(df)):\n",
    "        nearest_neighbors = find_k_nearest_neighbors(k)\n",
    "        food_type_counts = nearest_neighbors['Food Type'].value_counts()\n",
    "        if 'Protein' in food_type_counts and food_type_counts['Protein'] > food_type_counts.get('Fruit', 0):\n",
    "            protein_ks.append((k, food_type_counts))\n",
    "    return protein_ks\n",
    "\n",
    "# Find all K values where Protein becomes the majority\n",
    "all_k_protein_predictions = find_all_k_for_protein_prediction()\n",
    "\n",
    "print(all_k_protein_predictions)\n"
   ]
  },
  {
   "cell_type": "code",
   "execution_count": 36,
   "id": "d1f8a09e-e757-49d7-bc6d-941b0bb88480",
   "metadata": {},
   "outputs": [
    {
     "name": "stdout",
     "output_type": "stream",
     "text": [
      "{'P(drive ∩ dorm | college) * P(college)': 0.013800000000000002, 'P(drive ∩ dorm | high school) * P(high school)': 0.012}\n"
     ]
    }
   ],
   "source": [
    "'''\n",
    "q3\n",
    "Suppose 30% of college students live in a dorm, but only 10% of high school students live in a dorm. \n",
    "In addition, the percentage of high school students who can drive is 15%, \n",
    "and the percentage of college students who can drive is 23%. \n",
    "One-fifth of the students are college students and the rest are high school students. \n",
    "If a student can drive and lives in the dorm, is the student more likely to be a college or high school student? \n",
    "(You can assume independence between students who live in a dorm and those who can drive.)\n",
    "'''\n",
    "# Import necessary library\n",
    "import numpy as np\n",
    "\n",
    "# Given probabilities\n",
    "P_college = 0.2  # Probability of being a college student\n",
    "P_high_school = 0.8  # Probability of being a high school student\n",
    "\n",
    "P_dorm_college = 0.3  # Probability of living in a dorm, given college student\n",
    "P_dorm_high_school = 0.1  # Probability of living in a dorm, given high school student\n",
    "\n",
    "P_drive_college = 0.23  # Probability of being able to drive, given college student\n",
    "P_drive_high_school = 0.15  # Probability of being able to drive, given high school student\n",
    "\n",
    "# Calculate P(drive ∩ dorm | college) and P(drive ∩ dorm | high school)\n",
    "P_drive_dorm_college = P_drive_college * P_dorm_college\n",
    "P_drive_dorm_high_school = P_drive_high_school * P_dorm_high_school\n",
    "\n",
    "# Numerators of Bayes' Theorem for college and high school\n",
    "numerator_college = P_drive_dorm_college * P_college\n",
    "numerator_high_school = P_drive_dorm_high_school * P_high_school\n",
    "\n",
    "# Display the results for comparison\n",
    "result = {\n",
    "    \"P(drive ∩ dorm | college) * P(college)\": numerator_college,\n",
    "    \"P(drive ∩ dorm | high school) * P(high school)\": numerator_high_school\n",
    "}\n",
    "\n",
    "print(result)"
   ]
  },
  {
   "cell_type": "code",
   "execution_count": 26,
   "id": "bd21236e-7933-4bbf-b4a5-88d202c8cb90",
   "metadata": {},
   "outputs": [
    {
     "name": "stdout",
     "output_type": "stream",
     "text": [
      "Figure 2: Rainy Day Prediction Dataset.\n"
     ]
    },
    {
     "data": {
      "text/html": [
       "<img src=\"./q4and5.png\"/>"
      ],
      "text/plain": [
       "<IPython.core.display.Image object>"
      ]
     },
     "execution_count": 26,
     "metadata": {},
     "output_type": "execute_result"
    }
   ],
   "source": [
    "from IPython.display import Image\n",
    "from IPython.core.display import HTML \n",
    "print(\"Figure 2: Rainy Day Prediction Dataset.\")\n",
    "Image(url= \"./q4and5.png\")"
   ]
  },
  {
   "cell_type": "code",
   "execution_count": 27,
   "id": "ff7e08f6-ae56-4383-bfb8-023ed50489e8",
   "metadata": {},
   "outputs": [
    {
     "name": "stdout",
     "output_type": "stream",
     "text": [
      "Estimated Probability of sunshine, wind, high atmosphere, and high temperature on a rainy day: 0.1171875\n"
     ]
    }
   ],
   "source": [
    "'''\n",
    "q4\n",
    "Review the table labeled Figure 2: Rainy Day Prediction Dataset. \n",
    "You need a model to predict if a day is rainy or not based on the following \n",
    "conditions: sunshine, wind, atmosphere, and temperature. In a Naïve Bayes classifier, \n",
    "given a rainy day, what is the estimated probability of having sunshine, wind, high atmosphere and high temperature?\n",
    "'''\n",
    "# Given conditional probabilities from the table\n",
    "\n",
    "# Probability of Sunshine on a Rainy Day: 2 out of 8 (Yes = 2, No = 6)\n",
    "P_sunshine_given_rainy = 2 / 8\n",
    "\n",
    "# Probability of Wind on a Rainy Day: 6 out of 8 (Yes = 6, No = 2)\n",
    "P_wind_given_rainy = 6 / 8\n",
    "\n",
    "# Probability of High Atmosphere on a Rainy Day: 8 out of 8 (High = 8, Low = 0)\n",
    "P_high_atmosphere_given_rainy = 8 / 8\n",
    "\n",
    "# Probability of High Temperature on a Rainy Day: 5 out of 8 (High = 5, Low = 3)\n",
    "P_high_temperature_given_rainy = 5 / 8\n",
    "\n",
    "# Now multiply the probabilities together (Naïve Bayes assumes conditional independence)\n",
    "P_total = P_sunshine_given_rainy * P_wind_given_rainy * P_high_atmosphere_given_rainy * P_high_temperature_given_rainy\n",
    "\n",
    "# Print the final estimated probability\n",
    "print(\"Estimated Probability of sunshine, wind, high atmosphere, and high temperature on a rainy day:\", P_total)\n"
   ]
  },
  {
   "cell_type": "code",
   "execution_count": 33,
   "id": "ba5988e9-3f17-4fe8-ad6d-632e956bb92a",
   "metadata": {},
   "outputs": [
    {
     "name": "stdout",
     "output_type": "stream",
     "text": [
      "Probability of Rainy: 0.012620192307692308\n",
      "Probability of Not Rainy: 0.021367521367521368\n",
      "Prediction: Not Rainy\n"
     ]
    }
   ],
   "source": [
    "'''\n",
    "q5\n",
    "Review the table labeled Figure 2: Rainy Day Prediction Dataset. \n",
    "A Naïve Bayes classifier is trained for the dataset in order \n",
    "to predict whether a day is rainy or not. If on a particular day the weather is sunny, \n",
    "the temperature is low, the atmosphere is high, and there is no wind, what will the model predict?\n",
    "'''\n",
    "\n",
    "# Given counts from the table\n",
    "\n",
    "# Prior probabilities\n",
    "total_rainy = 8 + 6  # Rainy yes = 8, Rainy no = 6\n",
    "total_not_rainy = 8 + 4  # Not Rainy yes = 8, Not Rainy no = 4\n",
    "total_days = total_rainy + total_not_rainy\n",
    "\n",
    "P_rainy = total_rainy / total_days\n",
    "P_not_rainy = total_not_rainy / total_days\n",
    "\n",
    "# Conditional probabilities for Rainy\n",
    "P_sunny_given_rainy = 2 / 8  # Sunny = Yes for rainy days\n",
    "P_no_wind_given_rainy = 2 / 8  # Wind = No for rainy days\n",
    "P_high_atmosphere_given_rainy = 8 / 8  # High Atmosphere for rainy days\n",
    "P_low_temp_given_rainy = 3 / 8  # Low temperature for rainy days\n",
    "\n",
    "# Conditional probabilities for Not Rainy\n",
    "P_sunny_given_not_rainy = 8 / 12  # Sunny = Yes for non-rainy days\n",
    "P_no_wind_given_not_rainy = 10 / 12  # Wind = No for non-rainy days\n",
    "P_high_atmosphere_given_not_rainy = 2 / 12  # High Atmosphere for non-rainy days\n",
    "P_low_temp_given_not_rainy = 6 / 12  # Low temperature for non-rainy days\n",
    "\n",
    "# Naïve Bayes prediction for Rainy\n",
    "P_rainy_given_weather = (\n",
    "    P_rainy *\n",
    "    P_sunny_given_rainy *\n",
    "    P_no_wind_given_rainy *\n",
    "    P_high_atmosphere_given_rainy *\n",
    "    P_low_temp_given_rainy\n",
    ")\n",
    "\n",
    "# Naïve Bayes prediction for Not Rainy\n",
    "P_not_rainy_given_weather = (\n",
    "    P_not_rainy *\n",
    "    P_sunny_given_not_rainy *\n",
    "    P_no_wind_given_not_rainy *\n",
    "    P_high_atmosphere_given_not_rainy *\n",
    "    P_low_temp_given_not_rainy\n",
    ")\n",
    "\n",
    "# Compare probabilities\n",
    "if P_rainy_given_weather > P_not_rainy_given_weather:\n",
    "    prediction = \"Rainy\"\n",
    "else:\n",
    "    prediction = \"Not Rainy\"\n",
    "\n",
    "# Print results\n",
    "print(f\"Probability of Rainy: {P_rainy_given_weather}\")\n",
    "print(f\"Probability of Not Rainy: {P_not_rainy_given_weather}\")\n",
    "print(f\"Prediction: {prediction}\")\n"
   ]
  },
  {
   "cell_type": "code",
   "execution_count": 37,
   "id": "4f961b75-c7b8-4106-9928-907aabb7609d",
   "metadata": {},
   "outputs": [
    {
     "name": "stdout",
     "output_type": "stream",
     "text": [
      " Figure 3: Car Dataset Used By Police Force.\n"
     ]
    },
    {
     "data": {
      "text/html": [
       "<img src=\"./q6and7.png\"/>"
      ],
      "text/plain": [
       "<IPython.core.display.Image object>"
      ]
     },
     "execution_count": 37,
     "metadata": {},
     "output_type": "execute_result"
    }
   ],
   "source": [
    "from IPython.display import Image\n",
    "from IPython.core.display import HTML \n",
    "print(\" Figure 3: Car Dataset Used By Police Force.\")\n",
    "Image(url= \"./q6and7.png\")"
   ]
  },
  {
   "cell_type": "code",
   "execution_count": 23,
   "id": "a15ce99b-f525-435c-b2f6-4fa400f9510e",
   "metadata": {},
   "outputs": [
    {
     "name": "stdout",
     "output_type": "stream",
     "text": [
      "Total stolen cars: 5\n",
      "Stolen cars with plate number: 1\n",
      "Probability that a stolen car has a plate number: 0.2\n"
     ]
    }
   ],
   "source": [
    "'''\n",
    "q6\n",
    "Review the table labeled Figure 3: Car Dataset Used By Police Force. \n",
    "Attribute A shows if a car was speeding, \n",
    "Attribute B shows if a car has a plate number, \n",
    "Attribute C shows if a car is new, and Class Attribute shows if a car was stolen. \n",
    "\n",
    "If a car is stolen, what is the probability that the car has a plate number?\n",
    "'''\n",
    "\n",
    "# Data from the table\n",
    "data = {\n",
    "    'A': ['F', 'F', 'F', 'F', 'F', 'T', 'T', 'T', 'T', 'T'],\n",
    "    'B': ['F', 'F', 'T', 'T', 'F', 'F', 'F', 'F', 'T', 'F'],\n",
    "    'C': ['F', 'T', 'T', 'T', 'T', 'T', 'T', 'T', 'T', 'T'],\n",
    "    'Class': ['Y', 'N', 'N', 'N', 'Y', 'Y', 'N', 'N', 'Y', 'Y']\n",
    "}\n",
    "\n",
    "import pandas as pd\n",
    "\n",
    "# Create a DataFrame from the data\n",
    "df = pd.DataFrame(data)\n",
    "\n",
    "# Step 1: Count total stolen cars (Class = Y)\n",
    "total_stolen = df[df['Class'] == 'Y'].shape[0]\n",
    "\n",
    "# Step 2: Count stolen cars with a plate number (B = T and Class = Y)\n",
    "stolen_with_plate = df[(df['Class'] == 'Y') & (df['B'] == 'T')].shape[0]\n",
    "\n",
    "# Step 3: Calculate the probability\n",
    "P_plate_given_stolen = stolen_with_plate / total_stolen\n",
    "\n",
    "# Print the results\n",
    "print(f\"Total stolen cars: {total_stolen}\")\n",
    "print(f\"Stolen cars with plate number: {stolen_with_plate}\")\n",
    "print(f\"Probability that a stolen car has a plate number: {P_plate_given_stolen}\")\n"
   ]
  },
  {
   "cell_type": "code",
   "execution_count": 24,
   "id": "7bcde180-8474-44f6-8ca3-3ebc3ad8c9c3",
   "metadata": {},
   "outputs": [
    {
     "name": "stdout",
     "output_type": "stream",
     "text": [
      "Probability of stolen given conditions: 0.017492711370262388\n",
      "Probability of not stolen given conditions: 0.017492711370262388\n",
      "Prediction: Tie\n"
     ]
    }
   ],
   "source": [
    "'''\n",
    "q7\n",
    "Review the table labeled Figure 3: Car Dataset Used By Police Force. \n",
    "Attribute A shows if a car was speeding, \n",
    "Attribute B shows if a car has a plate number, \n",
    "Attribute C shows if a car is new, and Class Attribute shows if a car was stolen. \n",
    "Consider if one of the probabilities is zero while applying Naive Bayes, use Laplace smoothing.\n",
    "\n",
    "If a Naïve Bayes model is trained for this dataset,\n",
    "what will be the Class Attribute prediction for an old car that was not speeding and has a plate number?\n",
    "'''\n",
    "# Step 1: Calculate prior probabilities\n",
    "P_stolen = df[df['Class'] == 'Y'].shape[0] / df.shape[0]\n",
    "P_not_stolen = df[df['Class'] == 'N'].shape[0] / df.shape[0]\n",
    "\n",
    "# Step 2: Calculate conditional probabilities with Laplace smoothing (for binary attributes)\n",
    "def laplace_smoothing(feature, value, target_class, df, k=2):\n",
    "    count_X_given_class = df[(df[feature] == value) & (df['Class'] == target_class)].shape[0]\n",
    "    count_class = df[df['Class'] == target_class].shape[0]\n",
    "    return (count_X_given_class + 1) / (count_class + k)\n",
    "\n",
    "# Conditional probabilities for stolen (Class = Y)\n",
    "P_A_F_given_stolen = laplace_smoothing('A', 'F', 'Y', df)  # A = F (Not speeding)\n",
    "P_B_T_given_stolen = laplace_smoothing('B', 'T', 'Y', df)  # B = T (Has plate number)\n",
    "P_C_F_given_stolen = laplace_smoothing('C', 'F', 'Y', df)  # C = F (Old car)\n",
    "\n",
    "# Conditional probabilities for not stolen (Class = N)\n",
    "P_A_F_given_not_stolen = laplace_smoothing('A', 'F', 'N', df)\n",
    "P_B_T_given_not_stolen = laplace_smoothing('B', 'T', 'N', df)\n",
    "P_C_F_given_not_stolen = laplace_smoothing('C', 'F', 'N', df)\n",
    "\n",
    "# Step 3: Calculate Naïve Bayes probabilities\n",
    "P_stolen_given_ABC = (\n",
    "    P_stolen * P_A_F_given_stolen * P_B_T_given_stolen * P_C_F_given_stolen\n",
    ")\n",
    "\n",
    "P_not_stolen_given_ABC = (\n",
    "    P_not_stolen * P_A_F_given_not_stolen * P_B_T_given_not_stolen * P_C_F_given_not_stolen\n",
    ")\n",
    "\n",
    "# Step 4: Make the prediction\n",
    "if P_stolen_given_ABC > P_not_stolen_given_ABC:\n",
    "    prediction = \"Stolen (Y)\"\n",
    "elif P_stolen_given_ABC == P_not_stolen_given_ABC:\n",
    "    prediction = \"Tie\"\n",
    "else:\n",
    "    prediction = \"Not Stolen (N)\"\n",
    "\n",
    "# Print results\n",
    "print(f\"Probability of stolen given conditions: {P_stolen_given_ABC}\")\n",
    "print(f\"Probability of not stolen given conditions: {P_not_stolen_given_ABC}\")\n",
    "print(f\"Prediction: {prediction}\")"
   ]
  },
  {
   "cell_type": "code",
   "execution_count": 38,
   "id": "dee43389-ae99-4df1-9f2e-d8417e67923e",
   "metadata": {},
   "outputs": [
    {
     "name": "stdout",
     "output_type": "stream",
     "text": [
      "Figure 4: Neural Network\n"
     ]
    },
    {
     "data": {
      "text/html": [
       "<img src=\"./q8.png\"/>"
      ],
      "text/plain": [
       "<IPython.core.display.Image object>"
      ]
     },
     "execution_count": 38,
     "metadata": {},
     "output_type": "execute_result"
    }
   ],
   "source": [
    "from IPython.display import Image\n",
    "from IPython.core.display import HTML \n",
    "print(\"Figure 4: Neural Network\")\n",
    "Image(url= \"./q8.png\")"
   ]
  },
  {
   "cell_type": "code",
   "execution_count": 12,
   "id": "23b454cd-4caf-4685-bf01-3c1cc3127eba",
   "metadata": {},
   "outputs": [
    {
     "name": "stdout",
     "output_type": "stream",
     "text": [
      "Updated w5: 0.35891647971788465\n",
      "Rounded w5: 0.36\n"
     ]
    }
   ],
   "source": [
    "'''\n",
    "q8\n",
    "Review the figure labeled Figure 4: Neural Network. \n",
    "The given neural network finished a forward pass and now will perform a backpropagation to tune its parameters. \n",
    "The network uses a logistic activation function, $f(x)=\\frac{1}{(1+{e}^{hx})}$ with a learning rate of 0.5, \n",
    "and loss is calculated using a squared error function, $ l=\\frac{1}{2}(target-output{)}^{2}$. \n",
    "\n",
    "Given the inputs, ground truth output, weights, and biases listed below, what will the value of w5 be after the first iteration of backpropagation? (Round your answer to the nearest hundredth.)\n",
    "\n",
    "Inputs = $ {I}_{1}=0.05,{I}_{2}=0.1$\n",
    "Weights = $ {w}_{1}=0.15,{w}_{2}=0.2,{w}_{3}=0.25,{w}_{4}=0.30,{w}_{5}=0.40,{w}_{6}=0.45$\n",
    "Biases = $ {B}_{1}=0.35,{B}_{2}=0.6$\n",
    "Learning rate: 𝜂 = 0.5\n",
    "Ground-truth output t = 0.01\n",
    "\n",
    "Note: Your answer should be in format X.X or X.XX (depending on precision required on decimal places).\n",
    "'''\n",
    "import math\n",
    "\n",
    "# Activation function (logistic sigmoid function)\n",
    "def sigmoid(x):\n",
    "    return 1 / (1 + math.exp(-x))\n",
    "\n",
    "# Derivative of the sigmoid function\n",
    "def sigmoid_derivative(x):\n",
    "    return x * (1 - x)\n",
    "\n",
    "# Inputs and weights from the problem statement\n",
    "I1 = 0.05  # Input 1\n",
    "I2 = 0.10  # Input 2\n",
    "w1 = 0.15  # Weight from I1 to H1\n",
    "w2 = 0.20  # Weight from I2 to H1\n",
    "w3 = 0.25  # Weight from I1 to H2\n",
    "w4 = 0.30  # Weight from I2 to H2\n",
    "w5 = 0.40  # Weight from H1 to output\n",
    "w6 = 0.45  # Weight from H2 to output\n",
    "B1 = 0.35  # Bias for hidden layer\n",
    "B2 = 0.6   # Bias for output layer\n",
    "learning_rate = 0.5  # Learning rate\n",
    "target_output = 0.01  # Ground-truth target output\n",
    "\n",
    "# Step 1: Forward pass to calculate hidden layer activations\n",
    "# Hidden layer node H1\n",
    "H1_input = I1 * w1 + I2 * w2 + B1  # Input to H1\n",
    "H1 = sigmoid(H1_input)  # Activation at H1\n",
    "\n",
    "# Hidden layer node H2\n",
    "H2_input = I1 * w3 + I2 * w4 + B1  # Input to H2\n",
    "H2 = sigmoid(H2_input)  # Activation at H2\n",
    "\n",
    "# Step 2: Forward pass to calculate the output layer activation\n",
    "O_input = H1 * w5 + H2 * w6 + B2  # Input to output node O\n",
    "O = sigmoid(O_input)  # Output activation\n",
    "\n",
    "# Step 3: Calculate the error (squared error loss)\n",
    "error = 0.5 * (target_output - O) ** 2  # Squared error loss\n",
    "\n",
    "# Step 4: Backpropagation - calculate gradient for w5\n",
    "# Derivative of the loss with respect to the output O\n",
    "d_loss_d_O = -(target_output - O)\n",
    "\n",
    "# Derivative of the output O with respect to weight w5\n",
    "d_O_d_w5 = H1 * sigmoid_derivative(O)\n",
    "\n",
    "# Full gradient for w5\n",
    "gradient_w5 = d_loss_d_O * d_O_d_w5\n",
    "\n",
    "# Step 5: Update w5 using the learning rate\n",
    "w5_updated = w5 - learning_rate * gradient_w5\n",
    "\n",
    "# Print the updated weight w5 and rounded result to the nearest hundredth\n",
    "print(\"Updated w5:\", w5_updated)\n",
    "print(\"Rounded w5:\", round(w5_updated, 2))\n"
   ]
  },
  {
   "cell_type": "code",
   "execution_count": 13,
   "id": "9cad4fbe-ef35-4488-a72e-41be03a6bab9",
   "metadata": {},
   "outputs": [
    {
     "name": "stdout",
     "output_type": "stream",
     "text": [
      "Figure 5: Support Vector Machine (SVM) Dataset\n"
     ]
    },
    {
     "data": {
      "text/html": [
       "<img src=\"./q9.png\"/>"
      ],
      "text/plain": [
       "<IPython.core.display.Image object>"
      ]
     },
     "execution_count": 13,
     "metadata": {},
     "output_type": "execute_result"
    }
   ],
   "source": [
    "from IPython.display import Image\n",
    "from IPython.core.display import HTML \n",
    "print(\"Figure 5: Support Vector Machine (SVM) Dataset\")\n",
    "Image(url= \"./q9.png\")"
   ]
  },
  {
   "cell_type": "code",
   "execution_count": 2,
   "id": "1ff73663-4ed8-49cd-b1c6-acd15dc93733",
   "metadata": {},
   "outputs": [
    {
     "ename": "TypeError",
     "evalue": "Input z must be 2D, not 1D",
     "output_type": "error",
     "traceback": [
      "\u001b[0;31m---------------------------------------------------------------------------\u001b[0m",
      "\u001b[0;31mTypeError\u001b[0m                                 Traceback (most recent call last)",
      "Cell \u001b[0;32mIn[2], line 39\u001b[0m\n\u001b[1;32m     36\u001b[0m plt\u001b[38;5;241m.\u001b[39mplot(xx, yy, \u001b[38;5;124m'\u001b[39m\u001b[38;5;124mg--\u001b[39m\u001b[38;5;124m'\u001b[39m, label\u001b[38;5;241m=\u001b[39m\u001b[38;5;124m'\u001b[39m\u001b[38;5;124mTransformed x^2 boundary\u001b[39m\u001b[38;5;124m'\u001b[39m)\n\u001b[1;32m     38\u001b[0m \u001b[38;5;66;03m# Plot the decision boundary\u001b[39;00m\n\u001b[0;32m---> 39\u001b[0m plt\u001b[38;5;241m.\u001b[39mcontour(xx, yy, Z\u001b[38;5;241m.\u001b[39mreshape(xx\u001b[38;5;241m.\u001b[39mshape), levels\u001b[38;5;241m=\u001b[39m[\u001b[38;5;241m0\u001b[39m], colors\u001b[38;5;241m=\u001b[39m\u001b[38;5;124m'\u001b[39m\u001b[38;5;124mk\u001b[39m\u001b[38;5;124m'\u001b[39m, linestyles\u001b[38;5;241m=\u001b[39m[\u001b[38;5;124m'\u001b[39m\u001b[38;5;124m-\u001b[39m\u001b[38;5;124m'\u001b[39m])\n\u001b[1;32m     41\u001b[0m \u001b[38;5;66;03m# Add labels and legend\u001b[39;00m\n\u001b[1;32m     42\u001b[0m plt\u001b[38;5;241m.\u001b[39mxlabel(\u001b[38;5;124m'\u001b[39m\u001b[38;5;124mX\u001b[39m\u001b[38;5;124m'\u001b[39m)\n",
      "File \u001b[0;32m~/anaconda3/envs/cse572/lib/python3.11/site-packages/matplotlib/pyplot.py:3143\u001b[0m, in \u001b[0;36mcontour\u001b[0;34m(data, *args, **kwargs)\u001b[0m\n\u001b[1;32m   3141\u001b[0m \u001b[38;5;129m@_copy_docstring_and_deprecators\u001b[39m(Axes\u001b[38;5;241m.\u001b[39mcontour)\n\u001b[1;32m   3142\u001b[0m \u001b[38;5;28;01mdef\u001b[39;00m \u001b[38;5;21mcontour\u001b[39m(\u001b[38;5;241m*\u001b[39margs, data\u001b[38;5;241m=\u001b[39m\u001b[38;5;28;01mNone\u001b[39;00m, \u001b[38;5;241m*\u001b[39m\u001b[38;5;241m*\u001b[39mkwargs) \u001b[38;5;241m-\u001b[39m\u001b[38;5;241m>\u001b[39m QuadContourSet:\n\u001b[0;32m-> 3143\u001b[0m     __ret \u001b[38;5;241m=\u001b[39m gca()\u001b[38;5;241m.\u001b[39mcontour(\n\u001b[1;32m   3144\u001b[0m         \u001b[38;5;241m*\u001b[39margs, \u001b[38;5;241m*\u001b[39m\u001b[38;5;241m*\u001b[39m({\u001b[38;5;124m\"\u001b[39m\u001b[38;5;124mdata\u001b[39m\u001b[38;5;124m\"\u001b[39m: data} \u001b[38;5;28;01mif\u001b[39;00m data \u001b[38;5;129;01mis\u001b[39;00m \u001b[38;5;129;01mnot\u001b[39;00m \u001b[38;5;28;01mNone\u001b[39;00m \u001b[38;5;28;01melse\u001b[39;00m {}), \u001b[38;5;241m*\u001b[39m\u001b[38;5;241m*\u001b[39mkwargs\n\u001b[1;32m   3145\u001b[0m     )\n\u001b[1;32m   3146\u001b[0m     \u001b[38;5;28;01mif\u001b[39;00m __ret\u001b[38;5;241m.\u001b[39m_A \u001b[38;5;129;01mis\u001b[39;00m \u001b[38;5;129;01mnot\u001b[39;00m \u001b[38;5;28;01mNone\u001b[39;00m:  \u001b[38;5;66;03m# type: ignore[attr-defined]\u001b[39;00m\n\u001b[1;32m   3147\u001b[0m         sci(__ret)\n",
      "File \u001b[0;32m~/anaconda3/envs/cse572/lib/python3.11/site-packages/matplotlib/__init__.py:1473\u001b[0m, in \u001b[0;36m_preprocess_data.<locals>.inner\u001b[0;34m(ax, data, *args, **kwargs)\u001b[0m\n\u001b[1;32m   1470\u001b[0m \u001b[38;5;129m@functools\u001b[39m\u001b[38;5;241m.\u001b[39mwraps(func)\n\u001b[1;32m   1471\u001b[0m \u001b[38;5;28;01mdef\u001b[39;00m \u001b[38;5;21minner\u001b[39m(ax, \u001b[38;5;241m*\u001b[39margs, data\u001b[38;5;241m=\u001b[39m\u001b[38;5;28;01mNone\u001b[39;00m, \u001b[38;5;241m*\u001b[39m\u001b[38;5;241m*\u001b[39mkwargs):\n\u001b[1;32m   1472\u001b[0m     \u001b[38;5;28;01mif\u001b[39;00m data \u001b[38;5;129;01mis\u001b[39;00m \u001b[38;5;28;01mNone\u001b[39;00m:\n\u001b[0;32m-> 1473\u001b[0m         \u001b[38;5;28;01mreturn\u001b[39;00m func(\n\u001b[1;32m   1474\u001b[0m             ax,\n\u001b[1;32m   1475\u001b[0m             \u001b[38;5;241m*\u001b[39m\u001b[38;5;28mmap\u001b[39m(sanitize_sequence, args),\n\u001b[1;32m   1476\u001b[0m             \u001b[38;5;241m*\u001b[39m\u001b[38;5;241m*\u001b[39m{k: sanitize_sequence(v) \u001b[38;5;28;01mfor\u001b[39;00m k, v \u001b[38;5;129;01min\u001b[39;00m kwargs\u001b[38;5;241m.\u001b[39mitems()})\n\u001b[1;32m   1478\u001b[0m     bound \u001b[38;5;241m=\u001b[39m new_sig\u001b[38;5;241m.\u001b[39mbind(ax, \u001b[38;5;241m*\u001b[39margs, \u001b[38;5;241m*\u001b[39m\u001b[38;5;241m*\u001b[39mkwargs)\n\u001b[1;32m   1479\u001b[0m     auto_label \u001b[38;5;241m=\u001b[39m (bound\u001b[38;5;241m.\u001b[39marguments\u001b[38;5;241m.\u001b[39mget(label_namer)\n\u001b[1;32m   1480\u001b[0m                   \u001b[38;5;129;01mor\u001b[39;00m bound\u001b[38;5;241m.\u001b[39mkwargs\u001b[38;5;241m.\u001b[39mget(label_namer))\n",
      "File \u001b[0;32m~/anaconda3/envs/cse572/lib/python3.11/site-packages/matplotlib/axes/_axes.py:6659\u001b[0m, in \u001b[0;36mAxes.contour\u001b[0;34m(self, *args, **kwargs)\u001b[0m\n\u001b[1;32m   6650\u001b[0m \u001b[38;5;250m\u001b[39m\u001b[38;5;124;03m\"\"\"\u001b[39;00m\n\u001b[1;32m   6651\u001b[0m \u001b[38;5;124;03mPlot contour lines.\u001b[39;00m\n\u001b[1;32m   6652\u001b[0m \n\u001b[0;32m   (...)\u001b[0m\n\u001b[1;32m   6656\u001b[0m \u001b[38;5;124;03m%(contour_doc)s\u001b[39;00m\n\u001b[1;32m   6657\u001b[0m \u001b[38;5;124;03m\"\"\"\u001b[39;00m\n\u001b[1;32m   6658\u001b[0m kwargs[\u001b[38;5;124m'\u001b[39m\u001b[38;5;124mfilled\u001b[39m\u001b[38;5;124m'\u001b[39m] \u001b[38;5;241m=\u001b[39m \u001b[38;5;28;01mFalse\u001b[39;00m\n\u001b[0;32m-> 6659\u001b[0m contours \u001b[38;5;241m=\u001b[39m mcontour\u001b[38;5;241m.\u001b[39mQuadContourSet(\u001b[38;5;28mself\u001b[39m, \u001b[38;5;241m*\u001b[39margs, \u001b[38;5;241m*\u001b[39m\u001b[38;5;241m*\u001b[39mkwargs)\n\u001b[1;32m   6660\u001b[0m \u001b[38;5;28mself\u001b[39m\u001b[38;5;241m.\u001b[39m_request_autoscale_view()\n\u001b[1;32m   6661\u001b[0m \u001b[38;5;28;01mreturn\u001b[39;00m contours\n",
      "File \u001b[0;32m~/anaconda3/envs/cse572/lib/python3.11/site-packages/matplotlib/contour.py:813\u001b[0m, in \u001b[0;36mContourSet.__init__\u001b[0;34m(self, ax, levels, filled, linewidths, linestyles, hatches, alpha, origin, extent, cmap, colors, norm, vmin, vmax, extend, antialiased, nchunk, locator, transform, negative_linestyles, clip_path, *args, **kwargs)\u001b[0m\n\u001b[1;32m    809\u001b[0m \u001b[38;5;28;01mif\u001b[39;00m \u001b[38;5;28mself\u001b[39m\u001b[38;5;241m.\u001b[39mnegative_linestyles \u001b[38;5;129;01mis\u001b[39;00m \u001b[38;5;28;01mNone\u001b[39;00m:\n\u001b[1;32m    810\u001b[0m     \u001b[38;5;28mself\u001b[39m\u001b[38;5;241m.\u001b[39mnegative_linestyles \u001b[38;5;241m=\u001b[39m \\\n\u001b[1;32m    811\u001b[0m         mpl\u001b[38;5;241m.\u001b[39mrcParams[\u001b[38;5;124m'\u001b[39m\u001b[38;5;124mcontour.negative_linestyle\u001b[39m\u001b[38;5;124m'\u001b[39m]\n\u001b[0;32m--> 813\u001b[0m kwargs \u001b[38;5;241m=\u001b[39m \u001b[38;5;28mself\u001b[39m\u001b[38;5;241m.\u001b[39m_process_args(\u001b[38;5;241m*\u001b[39margs, \u001b[38;5;241m*\u001b[39m\u001b[38;5;241m*\u001b[39mkwargs)\n\u001b[1;32m    814\u001b[0m \u001b[38;5;28mself\u001b[39m\u001b[38;5;241m.\u001b[39m_process_levels()\n\u001b[1;32m    816\u001b[0m \u001b[38;5;28mself\u001b[39m\u001b[38;5;241m.\u001b[39m_extend_min \u001b[38;5;241m=\u001b[39m \u001b[38;5;28mself\u001b[39m\u001b[38;5;241m.\u001b[39mextend \u001b[38;5;129;01min\u001b[39;00m [\u001b[38;5;124m'\u001b[39m\u001b[38;5;124mmin\u001b[39m\u001b[38;5;124m'\u001b[39m, \u001b[38;5;124m'\u001b[39m\u001b[38;5;124mboth\u001b[39m\u001b[38;5;124m'\u001b[39m]\n",
      "File \u001b[0;32m~/anaconda3/envs/cse572/lib/python3.11/site-packages/matplotlib/contour.py:1470\u001b[0m, in \u001b[0;36mQuadContourSet._process_args\u001b[0;34m(self, corner_mask, algorithm, *args, **kwargs)\u001b[0m\n\u001b[1;32m   1467\u001b[0m         corner_mask \u001b[38;5;241m=\u001b[39m mpl\u001b[38;5;241m.\u001b[39mrcParams[\u001b[38;5;124m'\u001b[39m\u001b[38;5;124mcontour.corner_mask\u001b[39m\u001b[38;5;124m'\u001b[39m]\n\u001b[1;32m   1468\u001b[0m \u001b[38;5;28mself\u001b[39m\u001b[38;5;241m.\u001b[39m_corner_mask \u001b[38;5;241m=\u001b[39m corner_mask\n\u001b[0;32m-> 1470\u001b[0m x, y, z \u001b[38;5;241m=\u001b[39m \u001b[38;5;28mself\u001b[39m\u001b[38;5;241m.\u001b[39m_contour_args(args, kwargs)\n\u001b[1;32m   1472\u001b[0m contour_generator \u001b[38;5;241m=\u001b[39m contourpy\u001b[38;5;241m.\u001b[39mcontour_generator(\n\u001b[1;32m   1473\u001b[0m     x, y, z, name\u001b[38;5;241m=\u001b[39m\u001b[38;5;28mself\u001b[39m\u001b[38;5;241m.\u001b[39m_algorithm, corner_mask\u001b[38;5;241m=\u001b[39m\u001b[38;5;28mself\u001b[39m\u001b[38;5;241m.\u001b[39m_corner_mask,\n\u001b[1;32m   1474\u001b[0m     line_type\u001b[38;5;241m=\u001b[39mcontourpy\u001b[38;5;241m.\u001b[39mLineType\u001b[38;5;241m.\u001b[39mSeparateCode,\n\u001b[1;32m   1475\u001b[0m     fill_type\u001b[38;5;241m=\u001b[39mcontourpy\u001b[38;5;241m.\u001b[39mFillType\u001b[38;5;241m.\u001b[39mOuterCode,\n\u001b[1;32m   1476\u001b[0m     chunk_size\u001b[38;5;241m=\u001b[39m\u001b[38;5;28mself\u001b[39m\u001b[38;5;241m.\u001b[39mnchunk)\n\u001b[1;32m   1478\u001b[0m t \u001b[38;5;241m=\u001b[39m \u001b[38;5;28mself\u001b[39m\u001b[38;5;241m.\u001b[39mget_transform()\n",
      "File \u001b[0;32m~/anaconda3/envs/cse572/lib/python3.11/site-packages/matplotlib/contour.py:1510\u001b[0m, in \u001b[0;36mQuadContourSet._contour_args\u001b[0;34m(self, args, kwargs)\u001b[0m\n\u001b[1;32m   1508\u001b[0m \u001b[38;5;28;01melif\u001b[39;00m \u001b[38;5;241m2\u001b[39m \u001b[38;5;241m<\u001b[39m nargs \u001b[38;5;241m<\u001b[39m\u001b[38;5;241m=\u001b[39m \u001b[38;5;241m4\u001b[39m:\n\u001b[1;32m   1509\u001b[0m     x, y, z_orig, \u001b[38;5;241m*\u001b[39margs \u001b[38;5;241m=\u001b[39m args\n\u001b[0;32m-> 1510\u001b[0m     x, y, z \u001b[38;5;241m=\u001b[39m \u001b[38;5;28mself\u001b[39m\u001b[38;5;241m.\u001b[39m_check_xyz(x, y, z_orig, kwargs)\n\u001b[1;32m   1512\u001b[0m \u001b[38;5;28;01melse\u001b[39;00m:\n\u001b[1;32m   1513\u001b[0m     \u001b[38;5;28;01mraise\u001b[39;00m _api\u001b[38;5;241m.\u001b[39mnargs_error(fn, takes\u001b[38;5;241m=\u001b[39m\u001b[38;5;124m\"\u001b[39m\u001b[38;5;124mfrom 1 to 4\u001b[39m\u001b[38;5;124m\"\u001b[39m, given\u001b[38;5;241m=\u001b[39mnargs)\n",
      "File \u001b[0;32m~/anaconda3/envs/cse572/lib/python3.11/site-packages/matplotlib/contour.py:1536\u001b[0m, in \u001b[0;36mQuadContourSet._check_xyz\u001b[0;34m(self, x, y, z, kwargs)\u001b[0m\n\u001b[1;32m   1533\u001b[0m z \u001b[38;5;241m=\u001b[39m ma\u001b[38;5;241m.\u001b[39masarray(z)\n\u001b[1;32m   1535\u001b[0m \u001b[38;5;28;01mif\u001b[39;00m z\u001b[38;5;241m.\u001b[39mndim \u001b[38;5;241m!=\u001b[39m \u001b[38;5;241m2\u001b[39m:\n\u001b[0;32m-> 1536\u001b[0m     \u001b[38;5;28;01mraise\u001b[39;00m \u001b[38;5;167;01mTypeError\u001b[39;00m(\u001b[38;5;124mf\u001b[39m\u001b[38;5;124m\"\u001b[39m\u001b[38;5;124mInput z must be 2D, not \u001b[39m\u001b[38;5;132;01m{\u001b[39;00mz\u001b[38;5;241m.\u001b[39mndim\u001b[38;5;132;01m}\u001b[39;00m\u001b[38;5;124mD\u001b[39m\u001b[38;5;124m\"\u001b[39m)\n\u001b[1;32m   1537\u001b[0m \u001b[38;5;28;01mif\u001b[39;00m z\u001b[38;5;241m.\u001b[39mshape[\u001b[38;5;241m0\u001b[39m] \u001b[38;5;241m<\u001b[39m \u001b[38;5;241m2\u001b[39m \u001b[38;5;129;01mor\u001b[39;00m z\u001b[38;5;241m.\u001b[39mshape[\u001b[38;5;241m1\u001b[39m] \u001b[38;5;241m<\u001b[39m \u001b[38;5;241m2\u001b[39m:\n\u001b[1;32m   1538\u001b[0m     \u001b[38;5;28;01mraise\u001b[39;00m \u001b[38;5;167;01mTypeError\u001b[39;00m(\u001b[38;5;124mf\u001b[39m\u001b[38;5;124m\"\u001b[39m\u001b[38;5;124mInput z must be at least a (2, 2) shaped array, \u001b[39m\u001b[38;5;124m\"\u001b[39m\n\u001b[1;32m   1539\u001b[0m                     \u001b[38;5;124mf\u001b[39m\u001b[38;5;124m\"\u001b[39m\u001b[38;5;124mbut has shape \u001b[39m\u001b[38;5;132;01m{\u001b[39;00mz\u001b[38;5;241m.\u001b[39mshape\u001b[38;5;132;01m}\u001b[39;00m\u001b[38;5;124m\"\u001b[39m)\n",
      "\u001b[0;31mTypeError\u001b[0m: Input z must be 2D, not 1D"
     ]
    },
    {
     "data": {
      "image/png": "[encoded data removed]",
      "text/plain": [
       "<Figure size 640x480 with 1 Axes>"
      ]
     },
     "metadata": {},
     "output_type": "display_data"
    }
   ],
   "source": [
    "'''\n",
    "q9\n",
    "Review the table labeled Figure 5: Support Vector Machine (SVM) Dataset. \n",
    "Your friend has asked you to train a Support Vector Machine (SVM) on the provided dataset. \n",
    "You check the dataset, which is one dimensional, and understand that there is no \n",
    "hyperplane that can completely separate the two classes. Therefore, linear SVM is not the best option. \n",
    "If you transform the data into two dimensions [(x)(x,x2)], and you decide to use non-linear SVM, \n",
    "which hyperplane will the SVM provide for separating the two classes?\n",
    "'''\n",
    "import numpy as np\n",
    "import matplotlib.pyplot as plt\n",
    "from sklearn.svm import SVC\n",
    "\n",
    "# Original dataset\n",
    "X = np.array([[-3], [-2], [-1], [0], [1], [2]])\n",
    "y = np.array([-1, -1, 1, 1, 1, -1])  # Class labels (-1 for negative, 1 for positive)\n",
    "\n",
    "# Transform the data to 2D using the (x, x^2) transformation\n",
    "X_transformed = np.hstack((X, X ** 2))\n",
    "\n",
    "# Train a non-linear SVM with a polynomial kernel\n",
    "svm_model = SVC(kernel='linear')\n",
    "svm_model.fit(X_transformed, y)\n",
    "\n",
    "# Create a mesh grid to visualize the decision boundary\n",
    "x_min, x_max = X[:, 0].min() - 1, X[:, 0].max() + 1\n",
    "xx = np.linspace(x_min, x_max, 500)\n",
    "yy = xx ** 2  # Quadratic transformation\n",
    "\n",
    "# Predict using the SVM model\n",
    "Z = svm_model.decision_function(np.c_[xx, yy])\n",
    "\n",
    "# Plotting\n",
    "plt.scatter(X_transformed[y == 1][:, 0], X_transformed[y == 1][:, 1], color='b', label='Positive Class (+)')\n",
    "plt.scatter(X_transformed[y == -1][:, 0], X_transformed[y == -1][:, 1], color='r', label='Negative Class (-)')\n",
    "plt.plot(xx, yy, 'g--', label='Transformed x^2 boundary')\n",
    "\n",
    "# Plot the decision boundary\n",
    "plt.contour(xx, yy, Z.reshape(xx.shape), levels=[0], colors='k', linestyles=['-'])\n",
    "\n",
    "# Add labels and legend\n",
    "plt.xlabel('X')\n",
    "plt.ylabel('X^2')\n",
    "plt.title('SVM Decision Boundary in Transformed Space')\n",
    "plt.legend()\n",
    "\n",
    "# Show the plot\n",
    "plt.show()\n"
   ]
  },
  {
   "cell_type": "code",
   "execution_count": 4,
   "id": "c67d5d96-5fa1-4537-8e11-3158ecc9dbd2",
   "metadata": {},
   "outputs": [
    {
     "name": "stdout",
     "output_type": "stream",
     "text": [
      "Transformed Data (x, x^2, class):\n",
      "(-3, 9, -1)\n",
      "(-2, 4, -1)\n",
      "(-1, 1, 1)\n",
      "(0, 0, 1)\n",
      "(1, 1, 1)\n",
      "(2, 4, -1)\n",
      "\n",
      "Estimated Decision Boundary: x^2 = 2.5\n",
      "\n",
      "Verifying Decision Boundary:\n",
      "Negative point (-3, 9) is correctly classified above the boundary.\n",
      "Negative point (-2, 4) is correctly classified above the boundary.\n",
      "Positive point (-1, 1) is correctly classified below the boundary.\n",
      "Positive point (0, 0) is correctly classified below the boundary.\n",
      "Positive point (1, 1) is correctly classified below the boundary.\n",
      "Negative point (2, 4) is correctly classified above the boundary.\n"
     ]
    }
   ],
   "source": [
    "# Step 1: Define the original dataset (1D data)\n",
    "data = [\n",
    "    (-3, -1),  # (x, class)\n",
    "    (-2, -1),\n",
    "    (-1,  1),\n",
    "    ( 0,  1),\n",
    "    ( 1,  1),\n",
    "    ( 2, -1)\n",
    "]\n",
    "\n",
    "# Step 2: Manually transform the data (x -> (x, x^2))\n",
    "transformed_data = [(x, x**2, label) for x, label in data]\n",
    "\n",
    "# Step 3: Display the transformed dataset\n",
    "print(\"Transformed Data (x, x^2, class):\")\n",
    "for x, x2, label in transformed_data:\n",
    "    print(f\"({x}, {x2}, {label})\")\n",
    "\n",
    "# Step 4: Manually estimate the decision boundary by analyzing the transformed data\n",
    "# We know that the negative class (-1) and positive class (+1) are not linearly separable in 1D,\n",
    "# but in the transformed 2D space, they can be separated by a boundary like x^2 = c.\n",
    "\n",
    "# Let’s manually calculate and check for a reasonable boundary:\n",
    "# We will check where the separation lies between (x, x^2) points of different classes\n",
    "\n",
    "# Negative class points:\n",
    "neg_class_points = [(x, x2) for x, x2, label in transformed_data if label == -1]\n",
    "\n",
    "# Positive class points:\n",
    "pos_class_points = [(x, x2) for x, x2, label in transformed_data if label == 1]\n",
    "\n",
    "# Step 5: Estimate the decision boundary (x^2 = 2.5 is reasonable from the transformed data)\n",
    "decision_boundary_x2 = 2.5\n",
    "\n",
    "print(f\"\\nEstimated Decision Boundary: x^2 = {decision_boundary_x2}\")\n",
    "\n",
    "# Step 6: Now let's verify the decision boundary manually\n",
    "# If x^2 = 2.5 is the decision boundary, it should separate the positive and negative class points.\n",
    "# Positive points should lie below this boundary, and negative points should lie above.\n",
    "\n",
    "print(\"\\nVerifying Decision Boundary:\")\n",
    "for x, x2, label in transformed_data:\n",
    "    if label == 1 and x2 < decision_boundary_x2:\n",
    "        print(f\"Positive point ({x}, {x2}) is correctly classified below the boundary.\")\n",
    "    elif label == -1 and x2 > decision_boundary_x2:\n",
    "        print(f\"Negative point ({x}, {x2}) is correctly classified above the boundary.\")\n",
    "    else:\n",
    "        print(f\"Point ({x}, {x2}) might be misclassified.\")\n"
   ]
  },
  {
   "cell_type": "code",
   "execution_count": 16,
   "id": "59c21a87-98cd-41ad-a7eb-88c297c4bf38",
   "metadata": {},
   "outputs": [
    {
     "name": "stdout",
     "output_type": "stream",
     "text": [
      "Negative class support vectors: [(-3, 9), (-2, 4), (2, 4)]\n",
      "Positive class support vectors: [(-1, 1), (0, 0), (1, 1)]\n",
      "[9, 4, 4]\n",
      "4\n",
      "[1, 0, 1]\n",
      "1\n",
      "Optimal decision boundary (x^2): 2.5\n"
     ]
    }
   ],
   "source": [
    "# Step 1: Define the transformed dataset (x -> (x, x^2))\n",
    "transformed_data = [\n",
    "    (-3, 9, -1),  # (x, x^2, class)\n",
    "    (-2, 4, -1),\n",
    "    (-1, 1, 1),\n",
    "    ( 0, 0, 1),\n",
    "    ( 1, 1, 1),\n",
    "    ( 2, 4, -1)\n",
    "]\n",
    "\n",
    "# Step 2: Identify the support vectors\n",
    "neg_class_support_vectors = [(x, x2) for x, x2, label in transformed_data if label == -1]\n",
    "pos_class_support_vectors = [(x, x2) for x, x2, label in transformed_data if label == 1]\n",
    "\n",
    "print(\"Negative class support vectors:\", neg_class_support_vectors)\n",
    "print(\"Positive class support vectors:\", pos_class_support_vectors)\n",
    "\n",
    "# Step 3: Calculate the decision boundary as the midpoint between the support vectors\n",
    "neg_class_x2 = [x2 for x, x2 in neg_class_support_vectors]\n",
    "pos_class_x2 = [x2 for x, x2 in pos_class_support_vectors]\n",
    "print(neg_class_x2)\n",
    "print(min(neg_class_x2))\n",
    "print(pos_class_x2)\n",
    "print(max(pos_class_x2))\n",
    "# The boundary is the midpoint between the closest points from both classes\n",
    "decision_boundary_x2 = (min(neg_class_x2) + max(pos_class_x2)) / 2\n",
    "\n",
    "print(f\"Optimal decision boundary (x^2): {decision_boundary_x2}\")\n"
   ]
  },
  {
   "cell_type": "code",
   "execution_count": 12,
   "id": "0dbb11a5-01a4-458e-9b71-c888b6a1912f",
   "metadata": {},
   "outputs": [
    {
     "name": "stdout",
     "output_type": "stream",
     "text": [
      "Transformed Data (x, x^2, class):\n",
      "(-3, 9, -1)\n",
      "(-2, 4, -1)\n",
      "(-1, 1, 1)\n",
      "(0, 0, 1)\n",
      "(1, 1, 1)\n",
      "(2, 4, -1)\n",
      "\n",
      "Negative class support vectors: [(-3, 9), (-2, 4), (2, 4)]\n",
      "Positive class support vectors: [(-1, 1), (0, 0), (1, 1)]\n",
      "\n",
      "Support vectors: [(-2, 4), (2, 4), (-1, 1), (1, 1)]\n"
     ]
    }
   ],
   "source": [
    "\"\"\"\n",
    "q10\n",
    "\n",
    "Review the table labeled Figure 5: Support Vector Machine (SVM) Dataset. \n",
    "Your friend has asked you to train a Support Vector Machine (SVM) on the provided dataset. \n",
    "You check the dataset, which is one dimensional, and understand that there is no hyperplane \n",
    "that can completely separate the two classes. Therefore, linear SVM is not the best option. \n",
    "If you transform the data into two dimensions $ [(x)\\to (x,{x}^{2})]$ and you decide to use non-linear SVM, \n",
    "which points will be support vectors?\n",
    "\n",
    "\"\"\"\n",
    "\n",
    "# Step 1: Define the original dataset (1D data)\n",
    "data = [\n",
    "    (-3, -1),  # (x, class)\n",
    "    (-2, -1),\n",
    "    (-1,  1),\n",
    "    ( 0,  1),\n",
    "    ( 1,  1),\n",
    "    ( 2, -1)\n",
    "]\n",
    "\n",
    "# Step 2: Manually transform the data (x -> (x, x^2))\n",
    "transformed_data = [(x, x**2, label) for x, label in data]\n",
    "\n",
    "# Step 3: Display the transformed dataset\n",
    "print(\"Transformed Data (x, x^2, class):\")\n",
    "for x, x2, label in transformed_data:\n",
    "    print(f\"({x}, {x2}, {label})\")\n",
    "\n",
    "# Step 4: Identify the support vectors manually\n",
    "# Based on the problem's explanation, we expect support vectors to be the points closest to the boundary\n",
    "\n",
    "# Support vectors will likely be:\n",
    "# Negative class: (-2, 4), (2, 4)\n",
    "# Positive class: (-1, 1), (1, 1)\n",
    "\n",
    "neg_class_support_vectors = [(x, x2) for x, x2, label in transformed_data if label == -1]\n",
    "pos_class_support_vectors = [(x, x2) for x, x2, label in transformed_data if label == 1]\n",
    "\n",
    "print(\"\\nNegative class support vectors:\", neg_class_support_vectors)\n",
    "print(\"Positive class support vectors:\", pos_class_support_vectors)\n",
    "\n",
    "# Display likely support vectors\n",
    "support_vectors = [(-2, 4), (2, 4), (-1, 1), (1, 1)]\n",
    "print(\"\\nSupport vectors:\", support_vectors)\n",
    "\n"
   ]
  },
  {
   "cell_type": "code",
   "execution_count": null,
   "id": "09494958-4659-4862-b59b-299e96c6cb6c",
   "metadata": {},
   "outputs": [],
   "source": []
  }
 ],
 "metadata": {
  "kernelspec": {
   "display_name": "Python 3 (ipykernel)",
   "language": "python",
   "name": "python3"
  },
  "language_info": {
   "codemirror_mode": {
    "name": "ipython",
    "version": 3
   },
   "file_extension": ".py",
   "mimetype": "text/x-python",
   "name": "python",
   "nbconvert_exporter": "python",
   "pygments_lexer": "ipython3",
   "version": "3.8.19"
  }
 },
 "nbformat": 4,
 "nbformat_minor": 5
}
