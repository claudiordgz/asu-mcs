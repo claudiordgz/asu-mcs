{
 "cells": [
  {
   "cell_type": "markdown",
   "metadata": {},
   "source": [
    "## Interval Scheduling Algorithm"
   ]
  },
  {
   "cell_type": "code",
   "execution_count": 1,
   "metadata": {},
   "outputs": [
    {
     "name": "stdout",
     "output_type": "stream",
     "text": [
      "[(0, 1), (2, 3), (4, 5), (7, 8)]\n"
     ]
    }
   ],
   "source": [
    "intervals = [(0, 6), (7, 8), (0, 1), (2, 3), (4, 5), (6, 9), (0, 2), (3, 4), (5, 7)]\n",
    "\n",
    "finishing_times = sorted(intervals, key=lambda x: x[1]) # O(nlogn)\n",
    "\n",
    "accepted = [finishing_times[0]]\n",
    "for (s_i, f_i) in finishing_times[1:]: # O(n)\n",
    "    if s_i > accepted[-1][1]: # >= in the book\n",
    "        accepted.append((s_i, f_i))\n",
    "        \n",
    "print(accepted)    "
   ]
  },
  {
   "cell_type": "markdown",
   "metadata": {},
   "source": [
    "## Interval Partitioning Problem (Interval Coloring Problem)"
   ]
  },
  {
   "cell_type": "code",
   "execution_count": 2,
   "metadata": {},
   "outputs": [
    {
     "name": "stdout",
     "output_type": "stream",
     "text": [
      "Test passed\n"
     ]
    }
   ],
   "source": [
    "intervals = [\n",
    "    (4,9), (11,13),\n",
    "    (1,3), (4,6), (8,10),\n",
    "    (1,6), (10,13),\n",
    "    (1,3), (8,10), (11,13)\n",
    "]\n",
    "\n",
    "expected = [\n",
    "    [(1,3), (4,6), (8,10), (11,13)],\n",
    "    [(1,6), (8,10), (11,13)],\n",
    "    [(1,3), (4,9), (10,13)],\n",
    "]\n",
    "\n",
    "def interval_partitioning(list_of_intervals):\n",
    "    s_intervals = sorted(intervals, key=lambda x: x[0])\n",
    "    labels = 0\n",
    "    intervals_by_label = []\n",
    "    for interval in s_intervals:\n",
    "        scheduled = False\n",
    "        for label, l_intervals in enumerate(intervals_by_label):\n",
    "            last_interval = l_intervals[-1]\n",
    "            if interval[0] >= last_interval[1]:\n",
    "                intervals_by_label[label].append(interval)\n",
    "                scheduled = True\n",
    "                break\n",
    "        if not scheduled:\n",
    "            labels += 1\n",
    "            intervals_by_label.append([interval])\n",
    "    return intervals_by_label\n",
    "\n",
    "def validate_intervals(result, expected):\n",
    "    expected = sorted(expected)\n",
    "    passed = True\n",
    "    sorted_answer = sorted(result)\n",
    "    for i,j in zip(sorted_answer, expected):\n",
    "        for k, l in zip(i, j):\n",
    "            if not all(x == y for x, y in zip(k, l)):\n",
    "                print(f\"ERROR {k} != {l}\")\n",
    "                passed = False\n",
    "                break\n",
    "\n",
    "    if passed:\n",
    "        print(\"Test passed\")\n",
    "\n",
    "assorted_intervals = interval_partitioning(intervals)\n",
    "validate_intervals(assorted_intervals, expected)"
   ]
  },
  {
   "cell_type": "markdown",
   "metadata": {},
   "source": [
    "## Scheduling to minimize lateness"
   ]
  },
  {
   "cell_type": "code",
   "execution_count": 3,
   "metadata": {},
   "outputs": [
    {
     "name": "stdout",
     "output_type": "stream",
     "text": [
      "[(1, 2, 3), (2, 4, 5), (4, 7, 7)]\n"
     ]
    }
   ],
   "source": [
    "# tuples of si (start time), fi (finish time), and di (deadline)\n",
    "jobs = [(1, 3, 5), (1, 4, 7),(1, 2, 3)]\n",
    "\n",
    "s_jobs = sorted(jobs, key=lambda x: x[2])\n",
    "new_schedule = [s_jobs[0]]\n",
    "for (s_j, f_j, d_j) in s_jobs[1:]:\n",
    "    t_j = f_j - s_j\n",
    "    (s_i, f_i, d_i) = new_schedule[-1]\n",
    "    new_s = f_i\n",
    "    new_f = new_s + t_j\n",
    "    new_schedule.append((new_s, new_f, d_j))\n",
    "    \n",
    "print(new_schedule)"
   ]
  },
  {
   "cell_type": "markdown",
   "metadata": {},
   "source": [
    "# Graphs"
   ]
  },
  {
   "cell_type": "markdown",
   "metadata": {},
   "source": [
    "## Djikstra's Algorithm"
   ]
  },
  {
   "cell_type": "code",
   "execution_count": 4,
   "metadata": {},
   "outputs": [],
   "source": [
    "import math\n",
    "from heapq import heappush, heappop\n",
    "\n",
    "class PriorityQueue:\n",
    "    \n",
    "    def __init__(self):\n",
    "        self.arr = []\n",
    "        \n",
    "    def add(self, value):\n",
    "        heappush(self.arr, value)\n",
    "        \n",
    "    def pop(self):\n",
    "        return heappop(self.arr)\n",
    "    \n",
    "    def is_empty(self):\n",
    "        return len(self.arr) == 0\n",
    "\n",
    "class GraphEdge(object):\n",
    "    def __init__(self, node, distance):\n",
    "        self.node = node\n",
    "        self.distance = distance\n",
    "        \n",
    "class GraphNode(object):\n",
    "    def __init__(self, val):\n",
    "        self.value = val\n",
    "        self.edges = []\n",
    "\n",
    "    def add_child(self, node, distance):\n",
    "        self.edges.append(GraphEdge(node, distance))\n",
    "\n",
    "    def remove_child(self, del_node):\n",
    "        if del_node in self.edges:\n",
    "            self.edges.remove(del_node)\n",
    "\n",
    "class Graph(object):\n",
    "    def __init__(self, node_list):\n",
    "        self.nodes = node_list\n",
    "\n",
    "    def add_edge(self, node1, node2, distance):\n",
    "        if node1 in self.nodes and node2 in self.nodes:\n",
    "            node1.add_child(node2, distance)\n",
    "            node2.add_child(node1, distance)\n",
    "\n",
    "    def remove_edge(self, node1, node2):\n",
    "        if node1 in self.nodes and node2 in self.nodes:\n",
    "            node1.remove_child(node2)\n",
    "            node2.remove_child(node1)\n",
    "            "
   ]
  },
  {
   "cell_type": "code",
   "execution_count": 65,
   "metadata": {},
   "outputs": [
    {
     "name": "stdout",
     "output_type": "stream",
     "text": [
      "['s', 'u', 'v', 'x'] x\n",
      "Shortest Distance from s to x is 2\n",
      "['s', 'u', 'v', 'x', 'y', 'z'] z\n",
      "Shortest Distance from s to z is 4\n",
      "['s', 'u', 'v', 'x', 'y'] y\n",
      "Shortest Distance from s to y is 3\n"
     ]
    }
   ],
   "source": [
    "def djikstra(start_node, end_node):\n",
    "    visited = []\n",
    "    q = PriorityQueue()\n",
    "    #     (s, d, node)\n",
    "    q.add((0, 0, start_node.value, start_node))\n",
    "    \n",
    "    visited_count = 0\n",
    "    while not q.is_empty():\n",
    "        # value is unnecessary and it's done to deal with equality\n",
    "        distance, count, value, node = q.pop()\n",
    "        \n",
    "        if value not in visited:\n",
    "            visited.append(value)\n",
    "        \n",
    "        if node == end_node:\n",
    "            print(visited, end_node.value)\n",
    "            return distance\n",
    "        \n",
    "        for edge in node.edges:\n",
    "            if edge.node.value not in visited:\n",
    "                q.add((distance + edge.distance, visited_count + count, edge.node.value, edge.node))\n",
    "\n",
    "def find_shortest_distance(start_node, end_node):\n",
    "    return 'Shortest Distance from {} to {} is {}'.format(start_node.value, end_node.value, djikstra(start_node, end_node))\n",
    "\n",
    "node_s = GraphNode('s')\n",
    "node_u = GraphNode('u')\n",
    "node_v = GraphNode('v')\n",
    "node_y = GraphNode('y')\n",
    "node_x = GraphNode('x')\n",
    "node_z = GraphNode('z')\n",
    "\n",
    "graph = Graph([node_s, node_u, node_v, node_y, node_x, node_z])\n",
    "graph.add_edge(node_s, node_u, 1)\n",
    "graph.add_edge(node_s, node_x, 4)\n",
    "graph.add_edge(node_s, node_v, 2)\n",
    "graph.add_edge(node_u, node_x, 1)\n",
    "graph.add_edge(node_v, node_x, 2)\n",
    "graph.add_edge(node_u, node_y, 3)\n",
    "graph.add_edge(node_x, node_y, 1)\n",
    "graph.add_edge(node_x, node_z, 2)\n",
    "graph.add_edge(node_v, node_z, 3)\n",
    "\n",
    "print(find_shortest_distance(node_s, node_x))\n",
    "print(find_shortest_distance(node_s, node_z))\n",
    "print(find_shortest_distance(node_s, node_y))"
   ]
  },
  {
   "cell_type": "markdown",
   "metadata": {},
   "source": [
    "## Minimun Spanning Tree\n",
    "\n",
    "Given the following example graph, we solve the MST using Kruskal and Prim's algorithm.\n",
    "\n",
    "\n",
    "![example_graph](./GraphExampleForGreedyAlgorithms.png)"
   ]
  },
  {
   "cell_type": "code",
   "execution_count": 54,
   "metadata": {},
   "outputs": [],
   "source": [
    "node_a = GraphNode('a')\n",
    "node_b = GraphNode('b')\n",
    "node_c = GraphNode('c')\n",
    "node_d = GraphNode('d')\n",
    "node_e = GraphNode('e')\n",
    "node_f = GraphNode('f')\n",
    "node_g = GraphNode('g')\n",
    "\n",
    "graph = Graph([node_a, node_b, node_c, node_d, node_e, node_f, node_g])\n",
    "graph.add_edge(node_a, node_b, 2**2)\n",
    "graph.add_edge(node_a, node_d, 3**2)\n",
    "graph.add_edge(node_a, node_c, 3**2)\n",
    "graph.add_edge(node_b, node_c, 4**2)\n",
    "graph.add_edge(node_b, node_e, 3**2)\n",
    "graph.add_edge(node_d, node_f, 7**2)\n",
    "graph.add_edge(node_d, node_c, 5**2)\n",
    "graph.add_edge(node_c, node_e, 1**2)\n",
    "graph.add_edge(node_f, node_g, 9**2)\n",
    "graph.add_edge(node_f, node_e, 8**2)"
   ]
  },
  {
   "cell_type": "markdown",
   "metadata": {},
   "source": [
    "## Kruskal Algorithm"
   ]
  },
  {
   "cell_type": "code",
   "execution_count": 55,
   "metadata": {},
   "outputs": [],
   "source": [
    "from collections import deque\n",
    "\n",
    "class Queue:\n",
    "    \n",
    "    def __init__(self):\n",
    "        self.arr = deque()\n",
    "        \n",
    "    def push(self, value):\n",
    "        self.arr.appendleft(value)\n",
    "        \n",
    "    def pop(self):\n",
    "        return self.arr.pop()\n",
    "    \n",
    "    def is_empty(self):\n",
    "        return len(self.arr) == 0\n",
    "\n",
    "class DisjointSet: \n",
    "    def __init__(self, n): \n",
    "        self.rank = [1] * n \n",
    "        self.parent = [i for i in range(n)] \n",
    "  \n",
    "    def find(self, x): \n",
    "        if (self.parent[x] != x): \n",
    "            self.parent[x] = self.find(self.parent[x]) \n",
    "        return self.parent[x] \n",
    "  \n",
    "    def union(self, x, y): \n",
    "        xset = self.find(x) \n",
    "        yset = self.find(y) \n",
    "  \n",
    "        if xset == yset: \n",
    "            return\n",
    "  \n",
    "        if self.rank[xset] < self.rank[yset]: \n",
    "            self.parent[xset] = yset \n",
    "        elif self.rank[xset] > self.rank[yset]: \n",
    "            self.parent[yset] = xset \n",
    "        else: \n",
    "            self.parent[yset] = xset \n",
    "            self.rank[xset] = self.rank[xset] + 1"
   ]
  },
  {
   "cell_type": "code",
   "execution_count": 56,
   "metadata": {},
   "outputs": [
    {
     "name": "stdout",
     "output_type": "stream",
     "text": [
      "[(1, 'c', 'e'), (4, 'a', 'b'), (9, 'a', 'd'), (9, 'a', 'c'), (49, 'd', 'f'), (81, 'f', 'g')]\n"
     ]
    }
   ],
   "source": [
    "def bfs_sort_edges(node):\n",
    "    q = Queue()\n",
    "    q.push(node)\n",
    "    visited = []\n",
    "    sorted_edges = PriorityQueue()\n",
    "    count = 0\n",
    "    while not q.is_empty():\n",
    "        el = q.pop()\n",
    "        if el.value not in visited:\n",
    "            visited.append(el.value)\n",
    "                \n",
    "        for edge in el.edges:\n",
    "            if edge.node.value not in visited:\n",
    "                sorted_edges.add((edge.distance, count, el, edge.node))\n",
    "                count += 1\n",
    "                q.push(edge.node)\n",
    "    return sorted_edges, visited\n",
    "\n",
    "\"\"\"\n",
    "1. Sort all the edges in non-decreasing order of their weight.\n",
    "2. Pick the smallest edge. Check if it forms a cycle with the spanning-tree formed so far. \n",
    "    If the cycle is not formed, include this edge. Else, discard it.\n",
    "3. Repeat step#2 until there are (V-1) edges in the spanning tree.\n",
    "\"\"\"\n",
    "def kruskal(root_node):\n",
    "    sorted_edges, nodes = bfs_sort_edges(root_node)\n",
    "\n",
    "    inverse_mapping = { node_value: idx for idx, node_value in enumerate(nodes) }\n",
    "    disjoint_set = DisjointSet(len(nodes))\n",
    "\n",
    "    MST = []\n",
    "    while not sorted_edges.is_empty():\n",
    "        (distance, _, from_node, to_node) = sorted_edges.pop()\n",
    "        fr_val = from_node.value\n",
    "        to_val = to_node.value\n",
    "        fr = inverse_mapping[fr_val]\n",
    "        to = inverse_mapping[to_val]\n",
    "        if not MST:\n",
    "            MST.append((distance, fr_val, to_val))\n",
    "            disjoint_set.union(fr, to)\n",
    "        else:\n",
    "            if disjoint_set.find(fr) != disjoint_set.find(to):\n",
    "                MST.append((distance, fr_val, to_val))\n",
    "                disjoint_set.union(fr, to)\n",
    "\n",
    "    return MST\n",
    "\n",
    "print(kruskal(node_a))"
   ]
  },
  {
   "cell_type": "markdown",
   "metadata": {},
   "source": [
    "## Prim's Algorithm"
   ]
  },
  {
   "cell_type": "code",
   "execution_count": null,
   "metadata": {},
   "outputs": [],
   "source": [
    "visited = [node_a.value]\n",
    "PriorityQueue()\n",
    "\n"
   ]
  }
 ],
 "metadata": {
  "kernelspec": {
   "display_name": "Python 3.8.3 64-bit ('generic-jupyter': conda)",
   "language": "python",
   "name": "python38364bitgenericjupyterconda871ee502f5cf473bb0fc3857fa77eada"
  },
  "language_info": {
   "codemirror_mode": {
    "name": "ipython",
    "version": 3
   },
   "file_extension": ".py",
   "mimetype": "text/x-python",
   "name": "python",
   "nbconvert_exporter": "python",
   "pygments_lexer": "ipython3",
   "version": "3.8.3"
  }
 },
 "nbformat": 4,
 "nbformat_minor": 4
}
